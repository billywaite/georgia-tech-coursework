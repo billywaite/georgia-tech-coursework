{
 "cells": [
  {
   "cell_type": "markdown",
   "metadata": {},
   "source": [
    "# Homework Week 1"
   ]
  },
  {
   "cell_type": "markdown",
   "metadata": {},
   "source": [
    "## Question 2.1\n",
    "Describe a situation or problem from your job, everyday life, current events, etc., for which a\n",
    "classification model would be appropriate. List some (up to 5) predictors that you might use."
   ]
  },
  {
   "cell_type": "markdown",
   "metadata": {},
   "source": [
    "### Summary\n",
    "A good application of a classification algorithm would be at my current job with the company ExecOnline. ExecOnline is an EdTech startup that provides MBA courses to large enterprises. A component of our business is forecasting how many students will enroll in each one of our programs by semester. Student enrollment is decided by the business and not by the student, so the classification model will be applied to enterprises and classifying them by their characteristics and behaviors. Different types of companies have different enrollment tendencies, for example a company like Citigroup will put students through all 4 semesters and put at least 25 people through, while a company like Akamai Technologies typically only participates 1 time a year with around 8 students. So the purpose of classifying enterprises into different groups is to assist us in predicting their behavior based on how those groups have participated in the past.\n",
    "\n",
    "### Predictors\n",
    "* **Company Size (Revenue):** Company Size is very important in determining what group an enterprise will fit into. Companies with a much larger revenue typically have more money to spend on professional development and will have larger contracts with more consistent student enrollment.\n",
    "* **Industry:** Industry will also be a useful characteristic of an enterprise to help in classifying them into groups. Behavior varies by industry, for example the finance & banking industry has large, well-established companies that have been focusing on professional development of new leaders for a long time. Industries like Technology with much newer companies like Twitter are just dipping their toes into things like professional development, and are still in the experimentation phase.\n",
    "* **Average Student Enrollment:** Behaviors like how many students these enterprises have put through each semester in the past are also big indicators of how an enterprise will participate in the future. This classifier goes hand in hand with characterics like company size because it can tell us where a client is in their relationship with us (whether they’re a new or old client). Newer clients are usually testing the waters and behave differently than 3 year old clients who know how they’re going to use us.\n",
    "* **Participation Frequency:** The number of semesters that an enterprise chooses to participate in throughout the year is another useful behavioral classifier. This can shed a lot of light on to how an enterprise has structured their professional development program. If an enterprise participates in all 4 semesters throughout the year then they are focused on upskilling a lot of new leaders to fight something like employee turnover while an enterprise that participates 1 time a year would be focused on promoting and training new leaders they hope to retain."
   ]
  },
  {
   "cell_type": "code",
   "execution_count": 1,
   "metadata": {},
   "outputs": [
    {
     "name": "stderr",
     "output_type": "stream",
     "text": [
      "\n",
      "Attaching package: ‘dplyr’\n",
      "\n",
      "The following objects are masked from ‘package:stats’:\n",
      "\n",
      "    filter, lag\n",
      "\n",
      "The following objects are masked from ‘package:base’:\n",
      "\n",
      "    intersect, setdiff, setequal, union\n",
      "\n"
     ]
    }
   ],
   "source": [
    "# Load necessary libraries\n",
    "library(dplyr)\n",
    "library(kernlab)\n",
    "library(kknn)"
   ]
  },
  {
   "cell_type": "markdown",
   "metadata": {},
   "source": [
    "## Question 2.2.1\n",
    "In this problem I am using the support vector machine function ksvm to find a good classifier for the given credit card data and then analyzing how well each C value classifies the data points. In this first step I wrote a loop to test different C values of increasing magnitude."
   ]
  },
  {
   "cell_type": "code",
   "execution_count": 3,
   "metadata": {},
   "outputs": [
    {
     "name": "stdout",
     "output_type": "stream",
     "text": [
      " Setting default kernel parameters  \n",
      "[1] 0.8639144\n",
      " Setting default kernel parameters  \n",
      "[1] 0.8639144\n",
      " Setting default kernel parameters  \n",
      "[1] 0.8623853\n",
      " Setting default kernel parameters  \n",
      "[1] 0.8623853\n",
      " Setting default kernel parameters  \n",
      "[1] 0.8639144\n",
      " Setting default kernel parameters  \n",
      "[1] 0.6253823\n",
      " Setting default kernel parameters  \n",
      "[1] 0.5458716\n",
      " Setting default kernel parameters  \n",
      "[1] 0.6636086\n",
      " Setting default kernel parameters  \n",
      "[1] 0.8027523\n",
      " Setting default kernel parameters  \n",
      "[1] 0.4923547\n"
     ]
    }
   ],
   "source": [
    "# Read data in and convert to matrix for use in ksvm\n",
    "data <- tbl_df(read.csv(\"credit_card_data-headers.txt\", header = TRUE, sep = \"\\t\"))\n",
    "data <- as.matrix(data)\n",
    "\n",
    "for (i in 1:10) {\n",
    "  c_test_val = 10**i\n",
    "  # Create ksvm model with test C value\n",
    "  model <- ksvm(data[,1:10],data[,11],type=\"C-svc\",kernel=\"vanilladot\",C=c_test_val,scaled=TRUE)\n",
    "  \n",
    "  # Get model predictions\n",
    "  pred <- predict(model,data[,1:10])\n",
    "  \n",
    "  # Get model prediction accuracy\n",
    "  pred_accuracy = sum(pred == data[,11]) / nrow(data)\n",
    "  print(pred_accuracy)\n",
    "}"
   ]
  },
  {
   "cell_type": "markdown",
   "metadata": {},
   "source": [
    "The model prediction accuracy is marginally better with C values of increasing magnitude and actually decreases after using a value of 10e5. Additionally, the speed of model calculation decreases significantly with higher C values so for the sake of speed and prediction accuracy I will keep the original suggested value of 100"
   ]
  },
  {
   "cell_type": "code",
   "execution_count": 4,
   "metadata": {},
   "outputs": [
    {
     "name": "stdout",
     "output_type": "stream",
     "text": [
      " Setting default kernel parameters  \n"
     ]
    },
    {
     "data": {
      "text/html": [
       "0.863914373088685"
      ],
      "text/latex": [
       "0.863914373088685"
      ],
      "text/markdown": [
       "0.863914373088685"
      ],
      "text/plain": [
       "[1] 0.8639144"
      ]
     },
     "metadata": {},
     "output_type": "display_data"
    }
   ],
   "source": [
    "# call ksvm. Final column is response variable\n",
    "model <- ksvm(data[,1:10],data[,11],type=\"C-svc\",kernel=\"vanilladot\",C=100,scaled=TRUE)\n",
    "\n",
    "# Get model predictions\n",
    "pred <- predict(model,data[,1:10])\n",
    "\n",
    "# see what fraction of the model’s predictions match the actual classification\n",
    "sum(pred == data[,11]) / nrow(data)"
   ]
  },
  {
   "cell_type": "code",
   "execution_count": 11,
   "metadata": {},
   "outputs": [],
   "source": [
    "# calculate a1…am\n",
    "a <- colSums(model@xmatrix[[1]] * model@coef[[1]])\n",
    "\n",
    "# calculate a0\n",
    "a0 <- -model@b\n",
    "\n",
    "# Equation of the line\n",
    "line_equation = a * model@xmatrix[[1]] + a0"
   ]
  },
  {
   "cell_type": "markdown",
   "metadata": {},
   "source": [
    "Multiplying the xmatrix by the coef gives the linear combination of data points that define a1,...,am.  I used the xmatrix attribute since the model stores these data points as scaled"
   ]
  },
  {
   "cell_type": "markdown",
   "metadata": {},
   "source": [
    "## Question 2.2.2\n",
    "In this problem I am using the k-nearest-neighbors classification function kknn to classify data points in the supplied credit data set. I wrote a loop to test different k values to identify which one would produce the highest prediction accuracy."
   ]
  },
  {
   "cell_type": "code",
   "execution_count": 6,
   "metadata": {},
   "outputs": [
    {
     "data": {
      "text/html": [
       "<table>\n",
       "<thead><tr><th scope=col>k</th><th scope=col>matches</th><th scope=col>prediction_accuracy</th></tr></thead>\n",
       "<tbody>\n",
       "\t<tr><td> 1       </td><td>533      </td><td>0.8149847</td></tr>\n",
       "\t<tr><td> 2       </td><td>533      </td><td>0.8149847</td></tr>\n",
       "\t<tr><td> 3       </td><td>533      </td><td>0.8149847</td></tr>\n",
       "\t<tr><td> 4       </td><td>533      </td><td>0.8149847</td></tr>\n",
       "\t<tr><td> 5       </td><td>557      </td><td>0.8516820</td></tr>\n",
       "\t<tr><td> 6       </td><td>553      </td><td>0.8455657</td></tr>\n",
       "\t<tr><td> 7       </td><td>554      </td><td>0.8470948</td></tr>\n",
       "\t<tr><td> 8       </td><td>555      </td><td>0.8486239</td></tr>\n",
       "\t<tr><td> 9       </td><td>554      </td><td>0.8470948</td></tr>\n",
       "\t<tr><td>10       </td><td>556      </td><td>0.8501529</td></tr>\n",
       "\t<tr><td>11       </td><td>557      </td><td>0.8516820</td></tr>\n",
       "\t<tr><td>12       </td><td>558      </td><td>0.8532110</td></tr>\n",
       "\t<tr><td>13       </td><td>557      </td><td>0.8516820</td></tr>\n",
       "\t<tr><td>14       </td><td>557      </td><td>0.8516820</td></tr>\n",
       "\t<tr><td>15       </td><td>558      </td><td>0.8532110</td></tr>\n",
       "</tbody>\n",
       "</table>\n"
      ],
      "text/latex": [
       "\\begin{tabular}{r|lll}\n",
       " k & matches & prediction\\_accuracy\\\\\n",
       "\\hline\n",
       "\t  1        & 533       & 0.8149847\\\\\n",
       "\t  2        & 533       & 0.8149847\\\\\n",
       "\t  3        & 533       & 0.8149847\\\\\n",
       "\t  4        & 533       & 0.8149847\\\\\n",
       "\t  5        & 557       & 0.8516820\\\\\n",
       "\t  6        & 553       & 0.8455657\\\\\n",
       "\t  7        & 554       & 0.8470948\\\\\n",
       "\t  8        & 555       & 0.8486239\\\\\n",
       "\t  9        & 554       & 0.8470948\\\\\n",
       "\t 10        & 556       & 0.8501529\\\\\n",
       "\t 11        & 557       & 0.8516820\\\\\n",
       "\t 12        & 558       & 0.8532110\\\\\n",
       "\t 13        & 557       & 0.8516820\\\\\n",
       "\t 14        & 557       & 0.8516820\\\\\n",
       "\t 15        & 558       & 0.8532110\\\\\n",
       "\\end{tabular}\n"
      ],
      "text/markdown": [
       "\n",
       "| k | matches | prediction_accuracy |\n",
       "|---|---|---|\n",
       "|  1        | 533       | 0.8149847 |\n",
       "|  2        | 533       | 0.8149847 |\n",
       "|  3        | 533       | 0.8149847 |\n",
       "|  4        | 533       | 0.8149847 |\n",
       "|  5        | 557       | 0.8516820 |\n",
       "|  6        | 553       | 0.8455657 |\n",
       "|  7        | 554       | 0.8470948 |\n",
       "|  8        | 555       | 0.8486239 |\n",
       "|  9        | 554       | 0.8470948 |\n",
       "| 10        | 556       | 0.8501529 |\n",
       "| 11        | 557       | 0.8516820 |\n",
       "| 12        | 558       | 0.8532110 |\n",
       "| 13        | 557       | 0.8516820 |\n",
       "| 14        | 557       | 0.8516820 |\n",
       "| 15        | 558       | 0.8532110 |\n",
       "\n"
      ],
      "text/plain": [
       "   k  matches prediction_accuracy\n",
       "1   1 533     0.8149847          \n",
       "2   2 533     0.8149847          \n",
       "3   3 533     0.8149847          \n",
       "4   4 533     0.8149847          \n",
       "5   5 557     0.8516820          \n",
       "6   6 553     0.8455657          \n",
       "7   7 554     0.8470948          \n",
       "8   8 555     0.8486239          \n",
       "9   9 554     0.8470948          \n",
       "10 10 556     0.8501529          \n",
       "11 11 557     0.8516820          \n",
       "12 12 558     0.8532110          \n",
       "13 13 557     0.8516820          \n",
       "14 14 557     0.8516820          \n",
       "15 15 558     0.8532110          "
      ]
     },
     "metadata": {},
     "output_type": "display_data"
    }
   ],
   "source": [
    "# Read data in again as df\n",
    "data <- tbl_df(read.csv(\"credit_card_data-headers.txt\", header = TRUE, sep = \"\\t\"))\n",
    "\n",
    "# Create df for match ratios\n",
    "match_ratios = data.frame(k = integer(15),\n",
    "                          matches = integer(15))\n",
    "\n",
    "# Loop through k values\n",
    "for (k_val in 1:15) {\n",
    "  \n",
    "  # populate k values into match_ratio df\n",
    "  match_ratios$k[k_val] <- k_val\n",
    "  \n",
    "  # Loop through each row of the dataframe to fit a model to each one\n",
    "  for (i in 1:nrow(data)) {\n",
    "    kknn_model = kknn(R1~A1+A2+A3+A8+A9+A10+A11+A12+A14+A15,\n",
    "                      data[-i,],\n",
    "                      data[i,],\n",
    "                      k=k_val,\n",
    "                      distance = 2,\n",
    "                      kernel = \"optimal\",\n",
    "                      scale = TRUE)\n",
    "    \n",
    "    # Compare prediction with true value\n",
    "    fit_val <- fitted.values(kknn_model)\n",
    "    actual_val <- data[i, 11]\n",
    "    \n",
    "    # If you find a match add to the count in the match_ratios df\n",
    "    if(round(fit_val) == actual_val) {\n",
    "      match_ratios$matches[k_val] <- match_ratios$matches[k_val] + 1\n",
    "    }\n",
    "  }\n",
    "}\n",
    "\n",
    "# Create prediction ratios\n",
    "match_ratios$prediction_accuracy <- match_ratios$matches / nrow(data)\n",
    "match_ratios"
   ]
  },
  {
   "cell_type": "code",
   "execution_count": 7,
   "metadata": {},
   "outputs": [
    {
     "data": {
      "text/html": [
       "<ol class=list-inline>\n",
       "\t<li>12</li>\n",
       "\t<li>15</li>\n",
       "</ol>\n"
      ],
      "text/latex": [
       "\\begin{enumerate*}\n",
       "\\item 12\n",
       "\\item 15\n",
       "\\end{enumerate*}\n"
      ],
      "text/markdown": [
       "1. 12\n",
       "2. 15\n",
       "\n",
       "\n"
      ],
      "text/plain": [
       "[1] 12 15"
      ]
     },
     "metadata": {},
     "output_type": "display_data"
    }
   ],
   "source": [
    "# Find highest prediction accuracy\n",
    "highest_accuracy <- max(match_ratios$prediction_accuracy)\n",
    "\n",
    "# Find row with highest prediction accuracy\n",
    "which(match_ratios$prediction_accuracy == highest_accuracy)\n"
   ]
  },
  {
   "cell_type": "markdown",
   "metadata": {},
   "source": [
    "I identified a k value of 12 and 15 and I will choose the lower k value of 12 to produce the highest prediction accuracy."
   ]
  }
 ],
 "metadata": {
  "kernelspec": {
   "display_name": "R",
   "language": "R",
   "name": "ir"
  },
  "language_info": {
   "codemirror_mode": "r",
   "file_extension": ".r",
   "mimetype": "text/x-r-source",
   "name": "R",
   "pygments_lexer": "r",
   "version": "3.5.2"
  }
 },
 "nbformat": 4,
 "nbformat_minor": 2
}
