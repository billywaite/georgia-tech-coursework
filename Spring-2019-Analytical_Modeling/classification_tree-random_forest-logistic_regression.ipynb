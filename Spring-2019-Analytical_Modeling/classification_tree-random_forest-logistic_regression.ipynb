{
 "cells": [
  {
   "cell_type": "markdown",
   "metadata": {},
   "source": [
    "# ISYE 6501 HW Week 7\n",
    "### Question 10.1\n",
    "***Using the same crime data set uscrime.txt as in Questions 8.2 and 9.1, find the best model you can using: ***\n",
    "* a regression tree model\n",
    "* a random forest model\n",
    "\n",
    "***In R, you can use the tree package or the rpart package, and the randomForest package. For\n",
    "each model, describe one or two qualitative takeaways you get from analyzing the results***"
   ]
  },
  {
   "cell_type": "markdown",
   "metadata": {},
   "source": [
    "#### 10.1 Part 1: Regression Tree model\n",
    "In part one of this question I am going to build a regression tree model using the rpart package and the uscrime data set from the past few weeks. In the code blocks below I start with basic project set up, and a quick few of the data."
   ]
  },
  {
   "cell_type": "code",
   "execution_count": 81,
   "metadata": {},
   "outputs": [],
   "source": [
    "# Basic Project set up\n",
    "rm(list = ls())\n",
    "setwd('/Users/wwaite/Dev/gtech/ISYE 6501/Week 7')\n",
    "\n",
    "suppressWarnings(library(rpart))\n",
    "suppressWarnings(library(randomForest))\n",
    "suppressWarnings(library(ggplot2))\n",
    "suppressWarnings(library(dplyr))\n",
    "suppressWarnings(library(repr))"
   ]
  },
  {
   "cell_type": "code",
   "execution_count": 82,
   "metadata": {},
   "outputs": [
    {
     "name": "stdout",
     "output_type": "stream",
     "text": [
      "Classes ‘tbl_df’, ‘tbl’ and 'data.frame':\t47 obs. of  16 variables:\n",
      " $ M     : num  15.1 14.3 14.2 13.6 14.1 12.1 12.7 13.1 15.7 14 ...\n",
      " $ So    : int  1 0 1 0 0 0 1 1 1 0 ...\n",
      " $ Ed    : num  9.1 11.3 8.9 12.1 12.1 11 11.1 10.9 9 11.8 ...\n",
      " $ Po1   : num  5.8 10.3 4.5 14.9 10.9 11.8 8.2 11.5 6.5 7.1 ...\n",
      " $ Po2   : num  5.6 9.5 4.4 14.1 10.1 11.5 7.9 10.9 6.2 6.8 ...\n",
      " $ LF    : num  0.51 0.583 0.533 0.577 0.591 0.547 0.519 0.542 0.553 0.632 ...\n",
      " $ M.F   : num  95 101.2 96.9 99.4 98.5 ...\n",
      " $ Pop   : int  33 13 18 157 18 25 4 50 39 7 ...\n",
      " $ NW    : num  30.1 10.2 21.9 8 3 4.4 13.9 17.9 28.6 1.5 ...\n",
      " $ U1    : num  0.108 0.096 0.094 0.102 0.091 0.084 0.097 0.079 0.081 0.1 ...\n",
      " $ U2    : num  4.1 3.6 3.3 3.9 2 2.9 3.8 3.5 2.8 2.4 ...\n",
      " $ Wealth: int  3940 5570 3180 6730 5780 6890 6200 4720 4210 5260 ...\n",
      " $ Ineq  : num  26.1 19.4 25 16.7 17.4 12.6 16.8 20.6 23.9 17.4 ...\n",
      " $ Prob  : num  0.0846 0.0296 0.0834 0.0158 0.0414 ...\n",
      " $ Time  : num  26.2 25.3 24.3 29.9 21.3 ...\n",
      " $ Crime : int  791 1635 578 1969 1234 682 963 1555 856 705 ...\n"
     ]
    }
   ],
   "source": [
    "# Read the data and get a quick view of the structure\n",
    "uscrime <- tbl_df(read.table(\"uscrime.txt\", stringsAsFactors = FALSE, header = TRUE))\n",
    "\n",
    "# Get a view of the data\n",
    "str(uscrime)"
   ]
  },
  {
   "cell_type": "markdown",
   "metadata": {},
   "source": [
    "In the step below I am going to find the best model I can using a regression tree model implemented with rpart. A tree can help you to explore the stucture of a set of data, while developing easy to visualize decision rules for predicting a categorical regression outcome for each factor. In the code below I first implemented rpart to grow the tree using the method anova for a regression tree, a control minsplit of 3 for the minimum number of data points (we are recommended to use a minimum of 5% of the data per factor), and cp = 0.001 for the threshold decrease in variance."
   ]
  },
  {
   "cell_type": "code",
   "execution_count": 83,
   "metadata": {},
   "outputs": [],
   "source": [
    "set.seed(1)\n",
    "\n",
    "# Grow the tree\n",
    "tree_model <- rpart(Crime~., data = uscrime, method = \"anova\")"
   ]
  },
  {
   "cell_type": "markdown",
   "metadata": {},
   "source": [
    "In this next section I am going to examine the results of the model. First I printed the cross validated results of the tree model. In the output you can see the variables that rpart as identified as important for splitting, and under that you can see the coefficient outputs for each split. You can see from the output that the only 3 variables used from entire crime data set are NW, Po1, and Pop. After using printcp, I then got a summary of the tree, wher eyou can see a more detailed explanation of each split. The output is pretty verbose, so after that I will then visualize the tree for a simpler look at the results."
   ]
  },
  {
   "cell_type": "code",
   "execution_count": 84,
   "metadata": {},
   "outputs": [
    {
     "name": "stdout",
     "output_type": "stream",
     "text": [
      "\n",
      "Regression tree:\n",
      "rpart(formula = Crime ~ ., data = uscrime, method = \"anova\")\n",
      "\n",
      "Variables actually used in tree construction:\n",
      "[1] NW  Po1 Pop\n",
      "\n",
      "Root node error: 6880928/47 = 146403\n",
      "\n",
      "n= 47 \n",
      "\n",
      "        CP nsplit rel error xerror    xstd\n",
      "1 0.362963      0   1.00000 1.0597 0.25895\n",
      "2 0.148143      1   0.63704 1.0241 0.22270\n",
      "3 0.051732      2   0.48889 1.1606 0.24169\n",
      "4 0.010000      3   0.43716 1.0585 0.23467\n"
     ]
    }
   ],
   "source": [
    "printcp(tree_model)"
   ]
  },
  {
   "cell_type": "code",
   "execution_count": 85,
   "metadata": {},
   "outputs": [
    {
     "name": "stdout",
     "output_type": "stream",
     "text": [
      "Call:\n",
      "rpart(formula = Crime ~ ., data = uscrime, method = \"anova\")\n",
      "  n= 47 \n",
      "\n",
      "          CP nsplit rel error   xerror      xstd\n",
      "1 0.36296293      0 1.0000000 1.059739 0.2589546\n",
      "2 0.14814320      1 0.6370371 1.024087 0.2227001\n",
      "3 0.05173165      2 0.4888939 1.160607 0.2416903\n",
      "4 0.01000000      3 0.4371622 1.058472 0.2346708\n",
      "\n",
      "Variable importance\n",
      "   Po1    Po2 Wealth   Ineq   Prob      M     NW    Pop   Time     Ed     LF \n",
      "    17     17     11     11     10     10      9      5      4      4      1 \n",
      "    So \n",
      "     1 \n",
      "\n",
      "Node number 1: 47 observations,    complexity param=0.3629629\n",
      "  mean=905.0851, MSE=146402.7 \n",
      "  left son=2 (23 obs) right son=3 (24 obs)\n",
      "  Primary splits:\n",
      "      Po1    < 7.65      to the left,  improve=0.3629629, (0 missing)\n",
      "      Po2    < 7.2       to the left,  improve=0.3629629, (0 missing)\n",
      "      Prob   < 0.0418485 to the right, improve=0.3217700, (0 missing)\n",
      "      NW     < 7.65      to the left,  improve=0.2356621, (0 missing)\n",
      "      Wealth < 6240      to the left,  improve=0.2002403, (0 missing)\n",
      "  Surrogate splits:\n",
      "      Po2    < 7.2       to the left,  agree=1.000, adj=1.000, (0 split)\n",
      "      Wealth < 5330      to the left,  agree=0.830, adj=0.652, (0 split)\n",
      "      Prob   < 0.043598  to the right, agree=0.809, adj=0.609, (0 split)\n",
      "      M      < 13.25     to the right, agree=0.745, adj=0.478, (0 split)\n",
      "      Ineq   < 17.15     to the right, agree=0.745, adj=0.478, (0 split)\n",
      "\n",
      "Node number 2: 23 observations,    complexity param=0.05173165\n",
      "  mean=669.6087, MSE=33880.15 \n",
      "  left son=4 (12 obs) right son=5 (11 obs)\n",
      "  Primary splits:\n",
      "      Pop < 22.5      to the left,  improve=0.4568043, (0 missing)\n",
      "      M   < 14.5      to the left,  improve=0.3931567, (0 missing)\n",
      "      NW  < 5.4       to the left,  improve=0.3184074, (0 missing)\n",
      "      Po1 < 5.75      to the left,  improve=0.2310098, (0 missing)\n",
      "      U1  < 0.093     to the right, improve=0.2119062, (0 missing)\n",
      "  Surrogate splits:\n",
      "      NW   < 5.4       to the left,  agree=0.826, adj=0.636, (0 split)\n",
      "      M    < 14.5      to the left,  agree=0.783, adj=0.545, (0 split)\n",
      "      Time < 22.30055  to the left,  agree=0.783, adj=0.545, (0 split)\n",
      "      So   < 0.5       to the left,  agree=0.739, adj=0.455, (0 split)\n",
      "      Ed   < 10.85     to the right, agree=0.739, adj=0.455, (0 split)\n",
      "\n",
      "Node number 3: 24 observations,    complexity param=0.1481432\n",
      "  mean=1130.75, MSE=150173.4 \n",
      "  left son=6 (10 obs) right son=7 (14 obs)\n",
      "  Primary splits:\n",
      "      NW   < 7.65      to the left,  improve=0.2828293, (0 missing)\n",
      "      M    < 13.05     to the left,  improve=0.2714159, (0 missing)\n",
      "      Time < 21.9001   to the left,  improve=0.2060170, (0 missing)\n",
      "      M.F  < 99.2      to the left,  improve=0.1703438, (0 missing)\n",
      "      Po1  < 10.75     to the left,  improve=0.1659433, (0 missing)\n",
      "  Surrogate splits:\n",
      "      Ed   < 11.45     to the right, agree=0.750, adj=0.4, (0 split)\n",
      "      Ineq < 16.25     to the left,  agree=0.750, adj=0.4, (0 split)\n",
      "      Time < 21.9001   to the left,  agree=0.750, adj=0.4, (0 split)\n",
      "      Pop  < 30        to the left,  agree=0.708, adj=0.3, (0 split)\n",
      "      LF   < 0.5885    to the right, agree=0.667, adj=0.2, (0 split)\n",
      "\n",
      "Node number 4: 12 observations\n",
      "  mean=550.5, MSE=20317.58 \n",
      "\n",
      "Node number 5: 11 observations\n",
      "  mean=799.5455, MSE=16315.52 \n",
      "\n",
      "Node number 6: 10 observations\n",
      "  mean=886.9, MSE=55757.49 \n",
      "\n",
      "Node number 7: 14 observations\n",
      "  mean=1304.929, MSE=144801.8 \n",
      "\n"
     ]
    }
   ],
   "source": [
    "# detailed summary of splits\n",
    "summary(tree_model)"
   ]
  },
  {
   "cell_type": "markdown",
   "metadata": {},
   "source": [
    "Below you can see a visualization of some of the key parts of the rpart summary. The R Squared value of each split is identified on the left plot, and the xerror is displayed on the right. You can see that xerror seems to go up and down for each of the splits, will the R Squared value seems to increase with each split, while beginning to taper off as it reaches the 3rd split."
   ]
  },
  {
   "cell_type": "code",
   "execution_count": 86,
   "metadata": {},
   "outputs": [
    {
     "name": "stdout",
     "output_type": "stream",
     "text": [
      "\n",
      "Regression tree:\n",
      "rpart(formula = Crime ~ ., data = uscrime, method = \"anova\")\n",
      "\n",
      "Variables actually used in tree construction:\n",
      "[1] NW  Po1 Pop\n",
      "\n",
      "Root node error: 6880928/47 = 146403\n",
      "\n",
      "n= 47 \n",
      "\n",
      "        CP nsplit rel error xerror    xstd\n",
      "1 0.362963      0   1.00000 1.0597 0.25895\n",
      "2 0.148143      1   0.63704 1.0241 0.22270\n",
      "3 0.051732      2   0.48889 1.1606 0.24169\n",
      "4 0.010000      3   0.43716 1.0585 0.23467\n"
     ]
    },
    {
     "data": {
      "image/png": "[encoded data removed]",
      "text/plain": [
       "plot without title"
      ]
     },
     "metadata": {},
     "output_type": "display_data"
    }
   ],
   "source": [
    "# plot two plots on one page \n",
    "par(mfrow=c(1,2))\n",
    "\n",
    "# visualize cross-validation results\n",
    "options(repr.plot.height = 5, repr.plot.width = 8)\n",
    "rsq.rpart(tree_model)\n"
   ]
  },
  {
   "cell_type": "markdown",
   "metadata": {},
   "source": [
    "Next I am going to plot the actual tree to visualize each of the splits. You can see again that only 3 variables are used to decided each split, with Po1, Pop, and NW each being used only one time."
   ]
  },
  {
   "cell_type": "code",
   "execution_count": 87,
   "metadata": {},
   "outputs": [
    {
     "data": {
      "image/png": "[encoded data removed]",
      "text/plain": [
       "Plot with title “Regression Tree for Crime ”"
      ]
     },
     "metadata": {},
     "output_type": "display_data"
    }
   ],
   "source": [
    "# plot tree \n",
    "options(repr.plot.height = 9)\n",
    "plot(tree_model, uniform=TRUE, \n",
    "   main=\"Regression Tree for Crime \")\n",
    "text(tree_model, use.n=TRUE, all=TRUE, cex=.8)\n"
   ]
  },
  {
   "cell_type": "markdown",
   "metadata": {},
   "source": [
    "Below I am going to do a quick manual calculation to find the final rsquared value for the entire model. You can see that the RSquared output is about 0.56 which is considerably lower than the models we used in previous weeks. Despite the lower RSquared, this could actually be a more effective solution if there are distinct groups within the data. If there are distinct groups, then the other models may run a higher risk of becoming overfit by generalizing a model to all groups."
   ]
  },
  {
   "cell_type": "code",
   "execution_count": 88,
   "metadata": {},
   "outputs": [
    {
     "data": {
      "text/html": [
       "0.562837788062114"
      ],
      "text/latex": [
       "0.562837788062114"
      ],
      "text/markdown": [
       "0.562837788062114"
      ],
      "text/plain": [
       "[1] 0.5628378"
      ]
     },
     "metadata": {},
     "output_type": "display_data"
    }
   ],
   "source": [
    "yhat <- predict(tree_model)\n",
    "SSres <- sum((yhat - uscrime$Crime)^2)\n",
    "SStot <- sum((uscrime$Crime - mean(uscrime$Crime))^2)\n",
    "R2 <- 1 - SSres / SStot\n",
    "R2"
   ]
  },
  {
   "cell_type": "markdown",
   "metadata": {},
   "source": [
    "Next, I am going to prune back the tree to avoid overfitting the data. Typically, you will want to select a tree size that minimizes the cross-validated error, the xerror column printed by printcp( ). Specifically, use printcp( ) to examine the cross-validated error results, select the complexity parameter associated with minimum error, and place it into the prune( ) function which I have done in the code block below."
   ]
  },
  {
   "cell_type": "code",
   "execution_count": 89,
   "metadata": {},
   "outputs": [
    {
     "data": {
      "text/html": [
       "0.14814320421029"
      ],
      "text/latex": [
       "0.14814320421029"
      ],
      "text/markdown": [
       "0.14814320421029"
      ],
      "text/plain": [
       "[1] 0.1481432"
      ]
     },
     "metadata": {},
     "output_type": "display_data"
    }
   ],
   "source": [
    "# automatically select the complexity parameter associated with the smallest cross-validated error. \n",
    "min_error <- tree_model$cptable[which.min(tree_model$cptable[,\"xerror\"]),\"CP\"]\n",
    "min_error"
   ]
  },
  {
   "cell_type": "code",
   "execution_count": 90,
   "metadata": {},
   "outputs": [
    {
     "data": {
      "image/png": "[encoded data removed]",
      "text/plain": [
       "Plot with title “Pruned Regression Tree for Crime”"
      ]
     },
     "metadata": {},
     "output_type": "display_data"
    }
   ],
   "source": [
    "# prune the tree \n",
    "pruned_tree<- prune(tree_model, cp=min_error) # from cptable   \n",
    "\n",
    "# plot the pruned tree \n",
    "options(repr.plot.height = 7, repr.plot.width = 6)\n",
    "plot(pruned_tree, uniform=TRUE, \n",
    "   main=\"Pruned Regression Tree for Crime\")\n",
    "text(pruned_tree, use.n=TRUE, all=TRUE, cex=.8)"
   ]
  },
  {
   "cell_type": "code",
   "execution_count": 91,
   "metadata": {},
   "outputs": [
    {
     "data": {
      "text/html": [
       "0.362962932452636"
      ],
      "text/latex": [
       "0.362962932452636"
      ],
      "text/markdown": [
       "0.362962932452636"
      ],
      "text/plain": [
       "[1] 0.3629629"
      ]
     },
     "metadata": {},
     "output_type": "display_data"
    }
   ],
   "source": [
    "yhat <- predict(pruned_tree)\n",
    "SSres <- sum((yhat - uscrime$Crime)^2)\n",
    "SStot <- sum((uscrime$Crime - mean(uscrime$Crime))^2)\n",
    "R2 <- 1 - SSres / SStot\n",
    "R2"
   ]
  },
  {
   "cell_type": "markdown",
   "metadata": {},
   "source": [
    "After pruning the tree, the model only found one split using the Po1 variable. I then tested the RSquared above and it looks like pruning the tree reduced this value considerably. I would recommend going with the original model found in this case, as it appears that pruning is unnecessary. "
   ]
  },
  {
   "cell_type": "code",
   "execution_count": 92,
   "metadata": {},
   "outputs": [
    {
     "data": {
      "text/html": [
       "<strong>1:</strong> 886.9"
      ],
      "text/latex": [
       "\\textbf{1:} 886.9"
      ],
      "text/markdown": [
       "**1:** 886.9"
      ],
      "text/plain": [
       "    1 \n",
       "886.9 "
      ]
     },
     "metadata": {},
     "output_type": "display_data"
    },
    {
     "data": {
      "text/html": [
       "<strong>1:</strong> 1130.75"
      ],
      "text/latex": [
       "\\textbf{1:} 1130.75"
      ],
      "text/markdown": [
       "**1:** 1130.75"
      ],
      "text/plain": [
       "      1 \n",
       "1130.75 "
      ]
     },
     "metadata": {},
     "output_type": "display_data"
    }
   ],
   "source": [
    "# Load the test value\n",
    "test_value <- data.frame(M = 14.0,\n",
    "                        So = 0,\n",
    "                        Ed = 10.0,\n",
    "                        Po1 = 12.0,\n",
    "                        Po2 = 15.5,\n",
    "                        LF = 0.640,\n",
    "                        M.F = 94.0,\n",
    "                        Pop = 150,\n",
    "                        NW = 1.1,\n",
    "                        U1 = 0.120,\n",
    "                        U2 = 3.6,\n",
    "                        Wealth = 3200,\n",
    "                        Ineq = 20.1,\n",
    "                        Prob = 0.040,\n",
    "                        Time = 39.0)\n",
    "\n",
    "predict(tree_model, test_value)\n",
    "predict(pruned_tree, test_value)"
   ]
  },
  {
   "cell_type": "markdown",
   "metadata": {},
   "source": [
    "The optimal number of splits found with the original tree was 3 splits which as a final RSquared value of about 56%. The prediction it output was 886.9. I then pruned the tree to account for overfitting using the xerror and the optimal number of splits that the model found was 1. With 1 split the RSquared was 36% and the predicted value was 1130.75 for the test data point. Based off of this output the original tree model appears to be less accurate than the traditional linear regression model, however it could prove to be much more useful when evaluating a larger data set because it automatically identifies the most useful components of a data set which could help reduce the effort in building the model and complexity. Additionally the original regression model may be over fit so this could be the most appropriate model selection."
   ]
  },
  {
   "cell_type": "markdown",
   "metadata": {},
   "source": [
    "#### 10.1 Part 2: Random Forest Model\n",
    "Random forests improve predictive accuracy by generating a large number of bootstrapped trees (based on random samples of variables), classifying a case using each tree in this new \"forest\", and deciding a final predicted outcome by combining the results across all of the trees (an average in regression, a majority vote in classification). Breiman and Cutler's random forest approach is implimented via the randomForest package. In the first step below, I executed randomForest on the crime data set, and then printed some high level results out. I used a prediction number of 4 which is calculated by n/3 with n being the number of predictors in the data set. The % Variance explained is similar to the RSquared value, which you can see was 41.72%."
   ]
  },
  {
   "cell_type": "code",
   "execution_count": 93,
   "metadata": {},
   "outputs": [
    {
     "name": "stdout",
     "output_type": "stream",
     "text": [
      "\n",
      "Call:\n",
      " randomForest(formula = Crime ~ ., data = uscrime, mtry = 4, ntree = 500) \n",
      "               Type of random forest: regression\n",
      "                     Number of trees: 500\n",
      "No. of variables tried at each split: 4\n",
      "\n",
      "          Mean of squared residuals: 85324.85\n",
      "                    % Var explained: 41.72\n"
     ]
    }
   ],
   "source": [
    "set.seed(1)\n",
    "\n",
    "# Random Forest prediction of Crime data\n",
    "fit_forest <- randomForest(Crime ~ ., data = uscrime, mtry = 4, ntree = 500)\n",
    "\n",
    "# view fit results \n",
    "print(fit_forest)"
   ]
  },
  {
   "cell_type": "code",
   "execution_count": 94,
   "metadata": {},
   "outputs": [
    {
     "data": {
      "text/html": [
       "0.417190769109979"
      ],
      "text/latex": [
       "0.417190769109979"
      ],
      "text/markdown": [
       "0.417190769109979"
      ],
      "text/plain": [
       "[1] 0.4171908"
      ]
     },
     "metadata": {},
     "output_type": "display_data"
    }
   ],
   "source": [
    "# Manually calculate the RSquared for confirmation of % var explained above\n",
    "yhat <- predict(fit_forest)\n",
    "SSres <- sum((yhat - uscrime$Crime)^2)\n",
    "SStot <- sum((uscrime$Crime - mean(uscrime$Crime))^2)\n",
    "R2 <- 1 - SSres / SStot\n",
    "R2"
   ]
  },
  {
   "cell_type": "markdown",
   "metadata": {},
   "source": [
    "This plot shows the Error and the Number of Trees. You can see that the error drops considerably in the first number of trees produced, and then increases a little bit before maintaining a consistent error level."
   ]
  },
  {
   "cell_type": "code",
   "execution_count": 95,
   "metadata": {},
   "outputs": [
    {
     "data": {
      "image/png": "[encoded data removed]",
      "text/plain": [
       "Plot with title “fit_forest”"
      ]
     },
     "metadata": {},
     "output_type": "display_data"
    }
   ],
   "source": [
    "options(repr.plot.height = 5, repr.plot.width = 7)\n",
    "plot(fit_forest)"
   ]
  },
  {
   "cell_type": "code",
   "execution_count": 96,
   "metadata": {},
   "outputs": [
    {
     "data": {
      "text/html": [
       "<strong>1:</strong> 1206.15773333333"
      ],
      "text/latex": [
       "\\textbf{1:} 1206.15773333333"
      ],
      "text/markdown": [
       "**1:** 1206.15773333333"
      ],
      "text/plain": [
       "       1 \n",
       "1206.158 "
      ]
     },
     "metadata": {},
     "output_type": "display_data"
    }
   ],
   "source": [
    "# Use the Random Forest to predict crime on the test value\n",
    "predict(fit_forest, test_value)"
   ]
  },
  {
   "cell_type": "markdown",
   "metadata": {},
   "source": [
    "### Question 10.2\n",
    "***Describe a situation or problem from your job, everyday life, current events, etc., for which a logistic regression model would be appropriate. List some (up to 5) predictors that you might use. ***\n",
    "\n",
    "A situation from my job where I have implemented a logistic regression model is to predict whether or not students in our courses will graduate or drop out. For context, we are an EdTech company similar to EDX or Coursera, and we are semester based delivering online programs. I used the model to find a probability of a binary event, graduation or drop out. We used the model throughout the semester, using the probability of a drop out as a leading indicator for us to take corrective action on such as calling participants to get back on track with their course work. Predictors I used for the model are outlined below:\n",
    "\n",
    "* ***Days to register after communication:*** After a company selects an employee for a program of ours, we then reach out to a contact asking them to register. The number of days between our communication with them and an actual registration can signal liklihood to drop out based on their relative level of eagerness\n",
    "* ***Course Registration:*** Specifically, how many days before the course start date did a student register. Our hypothesis is that students who register last minute, or after a course starts are less engaged with the course, and more likely to drop out\n",
    "* ***Date of First Login:*** When did a student first login after registering in days. We also hypothesized that this shows more eagerness and enthusiasm for the coursework\n",
    "* ***Length of Time between activities:*** The number of days between activities. While different students have different learning and studying habits, if we see students with large gaps in between learning activities like viewing lectures, gaps as large as 2 weeks, they are considerably less likely to graduate\n",
    "* ***Seniority:*** We offer courses to enterprises only, so each student has a job title that they submit with a seniority. More senior contacts at the level of Vice President and above have less time to commit, so they are less likely to graduate"
   ]
  },
  {
   "cell_type": "markdown",
   "metadata": {},
   "source": [
    "### Question 10.3\n",
    "\n",
    "* ***Using the GermanCredit data set germancredit.txt, use logistic regression to find a good predictive model for whether credit applicants are good credit risks or not. Show your model (factors used and their coefficients), the software output, and the quality of fit. You can use the glm function in R. To get a logistic regression (logit) model on data where the response is either zero or one, use family=binomial(link=”logit”) in your glm function call.***\n",
    "* ***Because the model gives a result between 0 and 1, it requires setting a threshold probability to\n",
    "separate between “good” and “bad” answers. In this data set, they estimate that incorrectly\n",
    "identifying a bad customer as good, is 5 times worse than incorrectly classifying a good\n",
    "customer as bad. Determine a good threshold probability based on your model.***"
   ]
  },
  {
   "cell_type": "markdown",
   "metadata": {},
   "source": [
    "In this problem I am going to build a logistic regression model and use that to predict whether credit applicants are good credit risks or not. Specifically, this model outputs the probability of a binary event. In the first code blocks below, I first loaded the data and saw that the response V21 had values of 1 and 2, which I then recoded into 0 and 1 which is necessary for logistic regression to work"
   ]
  },
  {
   "cell_type": "code",
   "execution_count": 97,
   "metadata": {},
   "outputs": [
    {
     "data": {
      "text/html": [
       "<table>\n",
       "<thead><tr><th scope=col>V1</th><th scope=col>V2</th><th scope=col>V3</th><th scope=col>V4</th><th scope=col>V5</th><th scope=col>V6</th><th scope=col>V7</th><th scope=col>V8</th><th scope=col>V9</th><th scope=col>V10</th><th scope=col>⋯</th><th scope=col>V12</th><th scope=col>V13</th><th scope=col>V14</th><th scope=col>V15</th><th scope=col>V16</th><th scope=col>V17</th><th scope=col>V18</th><th scope=col>V19</th><th scope=col>V20</th><th scope=col>V21</th></tr></thead>\n",
       "<tbody>\n",
       "\t<tr><td>A11 </td><td> 6  </td><td>A34 </td><td>A43 </td><td>1169</td><td>A65 </td><td>A75 </td><td>4   </td><td>A93 </td><td>A101</td><td>⋯   </td><td>A121</td><td>67  </td><td>A143</td><td>A152</td><td>2   </td><td>A173</td><td>1   </td><td>A192</td><td>A201</td><td>1   </td></tr>\n",
       "\t<tr><td>A12 </td><td>48  </td><td>A32 </td><td>A43 </td><td>5951</td><td>A61 </td><td>A73 </td><td>2   </td><td>A92 </td><td>A101</td><td>⋯   </td><td>A121</td><td>22  </td><td>A143</td><td>A152</td><td>1   </td><td>A173</td><td>1   </td><td>A191</td><td>A201</td><td>2   </td></tr>\n",
       "\t<tr><td>A14 </td><td>12  </td><td>A34 </td><td>A46 </td><td>2096</td><td>A61 </td><td>A74 </td><td>2   </td><td>A93 </td><td>A101</td><td>⋯   </td><td>A121</td><td>49  </td><td>A143</td><td>A152</td><td>1   </td><td>A172</td><td>2   </td><td>A191</td><td>A201</td><td>1   </td></tr>\n",
       "\t<tr><td>A11 </td><td>42  </td><td>A32 </td><td>A42 </td><td>7882</td><td>A61 </td><td>A74 </td><td>2   </td><td>A93 </td><td>A103</td><td>⋯   </td><td>A122</td><td>45  </td><td>A143</td><td>A153</td><td>1   </td><td>A173</td><td>2   </td><td>A191</td><td>A201</td><td>1   </td></tr>\n",
       "\t<tr><td>A11 </td><td>24  </td><td>A33 </td><td>A40 </td><td>4870</td><td>A61 </td><td>A73 </td><td>3   </td><td>A93 </td><td>A101</td><td>⋯   </td><td>A124</td><td>53  </td><td>A143</td><td>A153</td><td>2   </td><td>A173</td><td>2   </td><td>A191</td><td>A201</td><td>2   </td></tr>\n",
       "\t<tr><td>A14 </td><td>36  </td><td>A32 </td><td>A46 </td><td>9055</td><td>A65 </td><td>A73 </td><td>2   </td><td>A93 </td><td>A101</td><td>⋯   </td><td>A124</td><td>35  </td><td>A143</td><td>A153</td><td>1   </td><td>A172</td><td>2   </td><td>A192</td><td>A201</td><td>1   </td></tr>\n",
       "</tbody>\n",
       "</table>\n"
      ],
      "text/latex": [
       "\\begin{tabular}{r|lllllllllllllllllllll}\n",
       " V1 & V2 & V3 & V4 & V5 & V6 & V7 & V8 & V9 & V10 & ⋯ & V12 & V13 & V14 & V15 & V16 & V17 & V18 & V19 & V20 & V21\\\\\n",
       "\\hline\n",
       "\t A11  &  6   & A34  & A43  & 1169 & A65  & A75  & 4    & A93  & A101 & ⋯    & A121 & 67   & A143 & A152 & 2    & A173 & 1    & A192 & A201 & 1   \\\\\n",
       "\t A12  & 48   & A32  & A43  & 5951 & A61  & A73  & 2    & A92  & A101 & ⋯    & A121 & 22   & A143 & A152 & 1    & A173 & 1    & A191 & A201 & 2   \\\\\n",
       "\t A14  & 12   & A34  & A46  & 2096 & A61  & A74  & 2    & A93  & A101 & ⋯    & A121 & 49   & A143 & A152 & 1    & A172 & 2    & A191 & A201 & 1   \\\\\n",
       "\t A11  & 42   & A32  & A42  & 7882 & A61  & A74  & 2    & A93  & A103 & ⋯    & A122 & 45   & A143 & A153 & 1    & A173 & 2    & A191 & A201 & 1   \\\\\n",
       "\t A11  & 24   & A33  & A40  & 4870 & A61  & A73  & 3    & A93  & A101 & ⋯    & A124 & 53   & A143 & A153 & 2    & A173 & 2    & A191 & A201 & 2   \\\\\n",
       "\t A14  & 36   & A32  & A46  & 9055 & A65  & A73  & 2    & A93  & A101 & ⋯    & A124 & 35   & A143 & A153 & 1    & A172 & 2    & A192 & A201 & 1   \\\\\n",
       "\\end{tabular}\n"
      ],
      "text/markdown": [
       "\n",
       "| V1 | V2 | V3 | V4 | V5 | V6 | V7 | V8 | V9 | V10 | ⋯ | V12 | V13 | V14 | V15 | V16 | V17 | V18 | V19 | V20 | V21 |\n",
       "|---|---|---|---|---|---|---|---|---|---|---|---|---|---|---|---|---|---|---|---|---|\n",
       "| A11  |  6   | A34  | A43  | 1169 | A65  | A75  | 4    | A93  | A101 | ⋯    | A121 | 67   | A143 | A152 | 2    | A173 | 1    | A192 | A201 | 1    |\n",
       "| A12  | 48   | A32  | A43  | 5951 | A61  | A73  | 2    | A92  | A101 | ⋯    | A121 | 22   | A143 | A152 | 1    | A173 | 1    | A191 | A201 | 2    |\n",
       "| A14  | 12   | A34  | A46  | 2096 | A61  | A74  | 2    | A93  | A101 | ⋯    | A121 | 49   | A143 | A152 | 1    | A172 | 2    | A191 | A201 | 1    |\n",
       "| A11  | 42   | A32  | A42  | 7882 | A61  | A74  | 2    | A93  | A103 | ⋯    | A122 | 45   | A143 | A153 | 1    | A173 | 2    | A191 | A201 | 1    |\n",
       "| A11  | 24   | A33  | A40  | 4870 | A61  | A73  | 3    | A93  | A101 | ⋯    | A124 | 53   | A143 | A153 | 2    | A173 | 2    | A191 | A201 | 2    |\n",
       "| A14  | 36   | A32  | A46  | 9055 | A65  | A73  | 2    | A93  | A101 | ⋯    | A124 | 35   | A143 | A153 | 1    | A172 | 2    | A192 | A201 | 1    |\n",
       "\n"
      ],
      "text/plain": [
       "  V1  V2 V3  V4  V5   V6  V7  V8 V9  V10  ⋯ V12  V13 V14  V15  V16 V17  V18\n",
       "1 A11  6 A34 A43 1169 A65 A75 4  A93 A101 ⋯ A121 67  A143 A152 2   A173 1  \n",
       "2 A12 48 A32 A43 5951 A61 A73 2  A92 A101 ⋯ A121 22  A143 A152 1   A173 1  \n",
       "3 A14 12 A34 A46 2096 A61 A74 2  A93 A101 ⋯ A121 49  A143 A152 1   A172 2  \n",
       "4 A11 42 A32 A42 7882 A61 A74 2  A93 A103 ⋯ A122 45  A143 A153 1   A173 2  \n",
       "5 A11 24 A33 A40 4870 A61 A73 3  A93 A101 ⋯ A124 53  A143 A153 2   A173 2  \n",
       "6 A14 36 A32 A46 9055 A65 A73 2  A93 A101 ⋯ A124 35  A143 A153 1   A172 2  \n",
       "  V19  V20  V21\n",
       "1 A192 A201 1  \n",
       "2 A191 A201 2  \n",
       "3 A191 A201 1  \n",
       "4 A191 A201 1  \n",
       "5 A191 A201 2  \n",
       "6 A192 A201 1  "
      ]
     },
     "metadata": {},
     "output_type": "display_data"
    }
   ],
   "source": [
    "library(boot)\n",
    "\n",
    "# Read the data and get a quick view of the structure\n",
    "german_credit <- tbl_df(read.table(\"germancredit.txt\", sep = \" \", stringsAsFactors = FALSE, header = FALSE))\n",
    "\n",
    "# Get a view of the data\n",
    "head(german_credit)"
   ]
  },
  {
   "cell_type": "code",
   "execution_count": 98,
   "metadata": {},
   "outputs": [
    {
     "data": {
      "text/html": [
       "<table>\n",
       "<thead><tr><th scope=col>V1</th><th scope=col>V2</th><th scope=col>V3</th><th scope=col>V4</th><th scope=col>V5</th><th scope=col>V6</th><th scope=col>V7</th><th scope=col>V8</th><th scope=col>V9</th><th scope=col>V10</th><th scope=col>⋯</th><th scope=col>V12</th><th scope=col>V13</th><th scope=col>V14</th><th scope=col>V15</th><th scope=col>V16</th><th scope=col>V17</th><th scope=col>V18</th><th scope=col>V19</th><th scope=col>V20</th><th scope=col>V21</th></tr></thead>\n",
       "<tbody>\n",
       "\t<tr><td>A11 </td><td> 6  </td><td>A34 </td><td>A43 </td><td>1169</td><td>A65 </td><td>A75 </td><td>4   </td><td>A93 </td><td>A101</td><td>⋯   </td><td>A121</td><td>67  </td><td>A143</td><td>A152</td><td>2   </td><td>A173</td><td>1   </td><td>A192</td><td>A201</td><td>0   </td></tr>\n",
       "\t<tr><td>A12 </td><td>48  </td><td>A32 </td><td>A43 </td><td>5951</td><td>A61 </td><td>A73 </td><td>2   </td><td>A92 </td><td>A101</td><td>⋯   </td><td>A121</td><td>22  </td><td>A143</td><td>A152</td><td>1   </td><td>A173</td><td>1   </td><td>A191</td><td>A201</td><td>1   </td></tr>\n",
       "\t<tr><td>A14 </td><td>12  </td><td>A34 </td><td>A46 </td><td>2096</td><td>A61 </td><td>A74 </td><td>2   </td><td>A93 </td><td>A101</td><td>⋯   </td><td>A121</td><td>49  </td><td>A143</td><td>A152</td><td>1   </td><td>A172</td><td>2   </td><td>A191</td><td>A201</td><td>0   </td></tr>\n",
       "\t<tr><td>A11 </td><td>42  </td><td>A32 </td><td>A42 </td><td>7882</td><td>A61 </td><td>A74 </td><td>2   </td><td>A93 </td><td>A103</td><td>⋯   </td><td>A122</td><td>45  </td><td>A143</td><td>A153</td><td>1   </td><td>A173</td><td>2   </td><td>A191</td><td>A201</td><td>0   </td></tr>\n",
       "\t<tr><td>A11 </td><td>24  </td><td>A33 </td><td>A40 </td><td>4870</td><td>A61 </td><td>A73 </td><td>3   </td><td>A93 </td><td>A101</td><td>⋯   </td><td>A124</td><td>53  </td><td>A143</td><td>A153</td><td>2   </td><td>A173</td><td>2   </td><td>A191</td><td>A201</td><td>1   </td></tr>\n",
       "\t<tr><td>A14 </td><td>36  </td><td>A32 </td><td>A46 </td><td>9055</td><td>A65 </td><td>A73 </td><td>2   </td><td>A93 </td><td>A101</td><td>⋯   </td><td>A124</td><td>35  </td><td>A143</td><td>A153</td><td>1   </td><td>A172</td><td>2   </td><td>A192</td><td>A201</td><td>0   </td></tr>\n",
       "</tbody>\n",
       "</table>\n"
      ],
      "text/latex": [
       "\\begin{tabular}{r|lllllllllllllllllllll}\n",
       " V1 & V2 & V3 & V4 & V5 & V6 & V7 & V8 & V9 & V10 & ⋯ & V12 & V13 & V14 & V15 & V16 & V17 & V18 & V19 & V20 & V21\\\\\n",
       "\\hline\n",
       "\t A11  &  6   & A34  & A43  & 1169 & A65  & A75  & 4    & A93  & A101 & ⋯    & A121 & 67   & A143 & A152 & 2    & A173 & 1    & A192 & A201 & 0   \\\\\n",
       "\t A12  & 48   & A32  & A43  & 5951 & A61  & A73  & 2    & A92  & A101 & ⋯    & A121 & 22   & A143 & A152 & 1    & A173 & 1    & A191 & A201 & 1   \\\\\n",
       "\t A14  & 12   & A34  & A46  & 2096 & A61  & A74  & 2    & A93  & A101 & ⋯    & A121 & 49   & A143 & A152 & 1    & A172 & 2    & A191 & A201 & 0   \\\\\n",
       "\t A11  & 42   & A32  & A42  & 7882 & A61  & A74  & 2    & A93  & A103 & ⋯    & A122 & 45   & A143 & A153 & 1    & A173 & 2    & A191 & A201 & 0   \\\\\n",
       "\t A11  & 24   & A33  & A40  & 4870 & A61  & A73  & 3    & A93  & A101 & ⋯    & A124 & 53   & A143 & A153 & 2    & A173 & 2    & A191 & A201 & 1   \\\\\n",
       "\t A14  & 36   & A32  & A46  & 9055 & A65  & A73  & 2    & A93  & A101 & ⋯    & A124 & 35   & A143 & A153 & 1    & A172 & 2    & A192 & A201 & 0   \\\\\n",
       "\\end{tabular}\n"
      ],
      "text/markdown": [
       "\n",
       "| V1 | V2 | V3 | V4 | V5 | V6 | V7 | V8 | V9 | V10 | ⋯ | V12 | V13 | V14 | V15 | V16 | V17 | V18 | V19 | V20 | V21 |\n",
       "|---|---|---|---|---|---|---|---|---|---|---|---|---|---|---|---|---|---|---|---|---|\n",
       "| A11  |  6   | A34  | A43  | 1169 | A65  | A75  | 4    | A93  | A101 | ⋯    | A121 | 67   | A143 | A152 | 2    | A173 | 1    | A192 | A201 | 0    |\n",
       "| A12  | 48   | A32  | A43  | 5951 | A61  | A73  | 2    | A92  | A101 | ⋯    | A121 | 22   | A143 | A152 | 1    | A173 | 1    | A191 | A201 | 1    |\n",
       "| A14  | 12   | A34  | A46  | 2096 | A61  | A74  | 2    | A93  | A101 | ⋯    | A121 | 49   | A143 | A152 | 1    | A172 | 2    | A191 | A201 | 0    |\n",
       "| A11  | 42   | A32  | A42  | 7882 | A61  | A74  | 2    | A93  | A103 | ⋯    | A122 | 45   | A143 | A153 | 1    | A173 | 2    | A191 | A201 | 0    |\n",
       "| A11  | 24   | A33  | A40  | 4870 | A61  | A73  | 3    | A93  | A101 | ⋯    | A124 | 53   | A143 | A153 | 2    | A173 | 2    | A191 | A201 | 1    |\n",
       "| A14  | 36   | A32  | A46  | 9055 | A65  | A73  | 2    | A93  | A101 | ⋯    | A124 | 35   | A143 | A153 | 1    | A172 | 2    | A192 | A201 | 0    |\n",
       "\n"
      ],
      "text/plain": [
       "  V1  V2 V3  V4  V5   V6  V7  V8 V9  V10  ⋯ V12  V13 V14  V15  V16 V17  V18\n",
       "1 A11  6 A34 A43 1169 A65 A75 4  A93 A101 ⋯ A121 67  A143 A152 2   A173 1  \n",
       "2 A12 48 A32 A43 5951 A61 A73 2  A92 A101 ⋯ A121 22  A143 A152 1   A173 1  \n",
       "3 A14 12 A34 A46 2096 A61 A74 2  A93 A101 ⋯ A121 49  A143 A152 1   A172 2  \n",
       "4 A11 42 A32 A42 7882 A61 A74 2  A93 A103 ⋯ A122 45  A143 A153 1   A173 2  \n",
       "5 A11 24 A33 A40 4870 A61 A73 3  A93 A101 ⋯ A124 53  A143 A153 2   A173 2  \n",
       "6 A14 36 A32 A46 9055 A65 A73 2  A93 A101 ⋯ A124 35  A143 A153 1   A172 2  \n",
       "  V19  V20  V21\n",
       "1 A192 A201 0  \n",
       "2 A191 A201 1  \n",
       "3 A191 A201 0  \n",
       "4 A191 A201 0  \n",
       "5 A191 A201 1  \n",
       "6 A192 A201 0  "
      ]
     },
     "metadata": {},
     "output_type": "display_data"
    }
   ],
   "source": [
    "# Recode V21 for use in logistic regression\n",
    "german_credit$V21[german_credit$V21 == 1] <- 0\n",
    "german_credit$V21[german_credit$V21 == 2] <- 1\n",
    "head(german_credit)"
   ]
  },
  {
   "cell_type": "markdown",
   "metadata": {},
   "source": [
    "Logistic regression is useful when you are predicting a binary outcome from a set of continuous predictor variables. In this next step I fit the model with V21 as a response, and the remainder of the data as predictors. I also used the binomial family. In the first few steps, I just wanted to get the Coefficient output for each variable so that I can build an additional, less complex model based on the p-values. So in this step, and the step I used to find the appropriate threshold, I did not use training or test data."
   ]
  },
  {
   "cell_type": "code",
   "execution_count": 99,
   "metadata": {},
   "outputs": [
    {
     "data": {
      "text/plain": [
       "\n",
       "Call:\n",
       "glm(formula = V21 ~ ., family = binomial(link = \"logit\"), data = german_credit)\n",
       "\n",
       "Deviance Residuals: \n",
       "    Min       1Q   Median       3Q      Max  \n",
       "-2.3410  -0.6994  -0.3752   0.7095   2.6116  \n",
       "\n",
       "Coefficients:\n",
       "              Estimate Std. Error z value Pr(>|z|)    \n",
       "(Intercept)  4.005e-01  1.084e+00   0.369 0.711869    \n",
       "V1A12       -3.749e-01  2.179e-01  -1.720 0.085400 .  \n",
       "V1A13       -9.657e-01  3.692e-01  -2.616 0.008905 ** \n",
       "V1A14       -1.712e+00  2.322e-01  -7.373 1.66e-13 ***\n",
       "V2           2.786e-02  9.296e-03   2.997 0.002724 ** \n",
       "V3A31        1.434e-01  5.489e-01   0.261 0.793921    \n",
       "V3A32       -5.861e-01  4.305e-01  -1.362 0.173348    \n",
       "V3A33       -8.532e-01  4.717e-01  -1.809 0.070470 .  \n",
       "V3A34       -1.436e+00  4.399e-01  -3.264 0.001099 ** \n",
       "V4A41       -1.666e+00  3.743e-01  -4.452 8.51e-06 ***\n",
       "V4A410      -1.489e+00  7.764e-01  -1.918 0.055163 .  \n",
       "V4A42       -7.916e-01  2.610e-01  -3.033 0.002421 ** \n",
       "V4A43       -8.916e-01  2.471e-01  -3.609 0.000308 ***\n",
       "V4A44       -5.228e-01  7.623e-01  -0.686 0.492831    \n",
       "V4A45       -2.164e-01  5.500e-01  -0.393 0.694000    \n",
       "V4A46        3.628e-02  3.965e-01   0.092 0.927082    \n",
       "V4A48       -2.059e+00  1.212e+00  -1.699 0.089297 .  \n",
       "V4A49       -7.401e-01  3.339e-01  -2.216 0.026668 *  \n",
       "V5           1.283e-04  4.444e-05   2.887 0.003894 ** \n",
       "V6A62       -3.577e-01  2.861e-01  -1.250 0.211130    \n",
       "V6A63       -3.761e-01  4.011e-01  -0.938 0.348476    \n",
       "V6A64       -1.339e+00  5.249e-01  -2.551 0.010729 *  \n",
       "V6A65       -9.467e-01  2.625e-01  -3.607 0.000310 ***\n",
       "V7A72       -6.691e-02  4.270e-01  -0.157 0.875475    \n",
       "V7A73       -1.828e-01  4.105e-01  -0.445 0.656049    \n",
       "V7A74       -8.310e-01  4.455e-01  -1.866 0.062110 .  \n",
       "V7A75       -2.766e-01  4.134e-01  -0.669 0.503410    \n",
       "V8           3.301e-01  8.828e-02   3.739 0.000185 ***\n",
       "V9A92       -2.755e-01  3.865e-01  -0.713 0.476040    \n",
       "V9A93       -8.161e-01  3.799e-01  -2.148 0.031718 *  \n",
       "V9A94       -3.671e-01  4.537e-01  -0.809 0.418448    \n",
       "V10A102      4.360e-01  4.101e-01   1.063 0.287700    \n",
       "V10A103     -9.786e-01  4.243e-01  -2.307 0.021072 *  \n",
       "V11          4.776e-03  8.641e-02   0.055 0.955920    \n",
       "V12A122      2.814e-01  2.534e-01   1.111 0.266630    \n",
       "V12A123      1.945e-01  2.360e-01   0.824 0.409743    \n",
       "V12A124      7.304e-01  4.245e-01   1.721 0.085308 .  \n",
       "V13         -1.454e-02  9.222e-03  -1.576 0.114982    \n",
       "V14A142     -1.232e-01  4.119e-01  -0.299 0.764878    \n",
       "V14A143     -6.463e-01  2.391e-01  -2.703 0.006871 ** \n",
       "V15A152     -4.436e-01  2.347e-01  -1.890 0.058715 .  \n",
       "V15A153     -6.839e-01  4.770e-01  -1.434 0.151657    \n",
       "V16          2.721e-01  1.895e-01   1.436 0.151109    \n",
       "V17A172      5.361e-01  6.796e-01   0.789 0.430160    \n",
       "V17A173      5.547e-01  6.549e-01   0.847 0.397015    \n",
       "V17A174      4.795e-01  6.623e-01   0.724 0.469086    \n",
       "V18          2.647e-01  2.492e-01   1.062 0.288249    \n",
       "V19A192     -3.000e-01  2.013e-01  -1.491 0.136060    \n",
       "V20A202     -1.392e+00  6.258e-01  -2.225 0.026095 *  \n",
       "---\n",
       "Signif. codes:  0 ‘***’ 0.001 ‘**’ 0.01 ‘*’ 0.05 ‘.’ 0.1 ‘ ’ 1\n",
       "\n",
       "(Dispersion parameter for binomial family taken to be 1)\n",
       "\n",
       "    Null deviance: 1221.73  on 999  degrees of freedom\n",
       "Residual deviance:  895.82  on 951  degrees of freedom\n",
       "AIC: 993.82\n",
       "\n",
       "Number of Fisher Scoring iterations: 5\n"
      ]
     },
     "metadata": {},
     "output_type": "display_data"
    }
   ],
   "source": [
    "set.seed(1)\n",
    "german_fit <- glm(V21 ~ ., data = german_credit, family = binomial(link = \"logit\"))\n",
    "summary(german_fit)"
   ]
  },
  {
   "cell_type": "markdown",
   "metadata": {},
   "source": [
    "Classifying someone with bad credit as having good credit is 5 times worse than incorrectly classifying someone with good credit. So to come up with an appropriate threshold to use for this model we need to to use confusion matrixes to minimize the # of false positives over false negatives. In the loop below, I iteratively tested probability threshold values from 0.1 to 1.0 and you can see the output beneath the code as 0.62"
   ]
  },
  {
   "cell_type": "code",
   "execution_count": 100,
   "metadata": {},
   "outputs": [],
   "source": [
    "# Get predicted values from the model\n",
    "predictions <- predict(german_fit, type=\"response\")\n",
    "\n",
    "# Store the predictions\n",
    "predictions_df <- german_credit\n",
    "predictions_df['predictions'] <- predictions"
   ]
  },
  {
   "cell_type": "code",
   "execution_count": 101,
   "metadata": {},
   "outputs": [
    {
     "data": {
      "text/html": [
       "0.62"
      ],
      "text/latex": [
       "0.62"
      ],
      "text/markdown": [
       "0.62"
      ],
      "text/plain": [
       "[1] 0.62"
      ]
     },
     "metadata": {},
     "output_type": "display_data"
    }
   ],
   "source": [
    "# Function to iteratively test threshold values\n",
    "threshold_test <- function(df) {\n",
    "    \n",
    "    # Loop 0.00 to 100.00\n",
    "    for (threshold in seq(0.1, 1, by=.01)) {\n",
    "\n",
    "        # Create a threshold test _df\n",
    "        test_df <- df %>%\n",
    "        select(V21, predictions)\n",
    "        \n",
    "        # Create a threshold predictions column based on the threshold iterator\n",
    "        test_df <- test_df %>%\n",
    "        mutate(threshold_predictions = ifelse(predictions < threshold, 0, 1))\n",
    "        \n",
    "        # Store table of results\n",
    "        results <- table(test_df$V21, test_df$threshold_predictions)\n",
    "        \n",
    "        # Calculation of mis-labeled results \n",
    "        # (multiply by 5 for mislabeled bad credit)\n",
    "        bad_credit_misses <- table(test_df$V21, \n",
    "                                   test_df$threshold_predictions)[3] * 5\n",
    "        good_credit_misses <- table(test_df$V21, \n",
    "                                    test_df$threshold_predictions)[2]\n",
    "        \n",
    "        # Conditional to store final threshold\n",
    "        if (good_credit_misses > bad_credit_misses) {\n",
    "            return(threshold)\n",
    "        }\n",
    "    }\n",
    "}\n",
    "threshold_result <- threshold_test(predictions_df)\n",
    "threshold_result\n"
   ]
  },
  {
   "cell_type": "markdown",
   "metadata": {},
   "source": [
    "I then used the original model and the threshold to output a final confusion matrix of results, and you can see the predictive value was about 78%."
   ]
  },
  {
   "cell_type": "code",
   "execution_count": 102,
   "metadata": {},
   "outputs": [
    {
     "data": {
      "text/plain": [
       "   \n",
       "      0   1\n",
       "  0 666  34\n",
       "  1 182 118"
      ]
     },
     "metadata": {},
     "output_type": "display_data"
    }
   ],
   "source": [
    "# Use the threshold value above to output a final prediction\n",
    "predictions_df <- predictions_df %>% \n",
    "mutate(threshold_predictions = ifelse(predictions < threshold_result, 0, 1))\n",
    "\n",
    "confuse_matrix <- table(predictions_df$V21, predictions_df$threshold_predictions)\n",
    "confuse_matrix"
   ]
  },
  {
   "cell_type": "code",
   "execution_count": 103,
   "metadata": {},
   "outputs": [
    {
     "data": {
      "text/html": [
       "0.784"
      ],
      "text/latex": [
       "0.784"
      ],
      "text/markdown": [
       "0.784"
      ],
      "text/plain": [
       "[1] 0.784"
      ]
     },
     "metadata": {},
     "output_type": "display_data"
    }
   ],
   "source": [
    "# Total prediction accuracy using all predictors and a threshold of 0.62\n",
    "sum(confuse_matrix[1] + confuse_matrix[4]) / nrow(predictions_df)"
   ]
  },
  {
   "cell_type": "markdown",
   "metadata": {},
   "source": [
    "After finding the appropriate threshold value for the model, I am now going to build an additional model using variable significance output from the first model. I am going to take the standard P value significane of less than 0.05. Additionally, I am going to do a simple training and test data set split to validate the model most effectively."
   ]
  },
  {
   "cell_type": "code",
   "execution_count": 107,
   "metadata": {},
   "outputs": [
    {
     "data": {
      "text/html": [
       "<ol class=list-inline>\n",
       "\t<li>300</li>\n",
       "\t<li>21</li>\n",
       "</ol>\n"
      ],
      "text/latex": [
       "\\begin{enumerate*}\n",
       "\\item 300\n",
       "\\item 21\n",
       "\\end{enumerate*}\n"
      ],
      "text/markdown": [
       "1. 300\n",
       "2. 21\n",
       "\n",
       "\n"
      ],
      "text/plain": [
       "[1] 300  21"
      ]
     },
     "metadata": {},
     "output_type": "display_data"
    },
    {
     "data": {
      "text/html": [
       "300"
      ],
      "text/latex": [
       "300"
      ],
      "text/markdown": [
       "300"
      ],
      "text/plain": [
       "[1] 300"
      ]
     },
     "metadata": {},
     "output_type": "display_data"
    }
   ],
   "source": [
    "set.seed(1)\n",
    "train <- sample(1:nrow(german_credit), 700)   # random sampling\n",
    "test <- (1:nrow(german_credit))[-train] \n",
    "\n",
    "germancredit_model2 = glm(V21 ~ V1 + \n",
    "                                V2 + \n",
    "                                V3 + \n",
    "                                V4 + \n",
    "                                V5 + \n",
    "                                V6 +  \n",
    "                                V8 + \n",
    "                                V9 + \n",
    "                                V10 + \n",
    "                                V14 + \n",
    "                                V20,\n",
    "                          family = binomial(link = \"logit\"),\n",
    "                          data = german_credit,\n",
    "                          subset = train)\n",
    "\n",
    "predictions <- predict(germancredit_model2, newdata = german_credit[test,])\n",
    "\n",
    "dim(german_credit[test,])\n",
    "length(predictions)"
   ]
  },
  {
   "cell_type": "code",
   "execution_count": 105,
   "metadata": {},
   "outputs": [
    {
     "data": {
      "text/plain": [
       "   \n",
       "      0   1\n",
       "  0 194  11\n",
       "  1  74  21"
      ]
     },
     "metadata": {},
     "output_type": "display_data"
    }
   ],
   "source": [
    "# Store the predictions\n",
    "predictions_df <- german_credit[test, ]\n",
    "predictions_df['predictions'] <- predictions\n",
    "\n",
    "# Use the threshold value above to output a final prediction\n",
    "predictions_df <- predictions_df %>% \n",
    "mutate(threshold_predictions = ifelse(predictions < threshold_result, 0, 1))\n",
    "\n",
    "confuse_matrix <- table(predictions_df$V21, predictions_df$threshold_predictions)\n",
    "confuse_matrix"
   ]
  },
  {
   "cell_type": "code",
   "execution_count": 106,
   "metadata": {},
   "outputs": [
    {
     "data": {
      "text/html": [
       "0.716666666666667"
      ],
      "text/latex": [
       "0.716666666666667"
      ],
      "text/markdown": [
       "0.716666666666667"
      ],
      "text/plain": [
       "[1] 0.7166667"
      ]
     },
     "metadata": {},
     "output_type": "display_data"
    }
   ],
   "source": [
    "# Total prediction accuracy using all predictors and a threshold of 0.62\n",
    "sum(confuse_matrix[1] + confuse_matrix[4]) / nrow(predictions_df)"
   ]
  },
  {
   "cell_type": "markdown",
   "metadata": {},
   "source": [
    "The final predictive value for the logistic model on the test data was 71.6%. While this was 7% lower than the original model with all of the predictors, this model has less complexity with fewer predictors and additionally is evaluated on data that it wasn't trained with. So we can trust the output from this model more."
   ]
  },
  {
   "cell_type": "code",
   "execution_count": null,
   "metadata": {},
   "outputs": [],
   "source": []
  }
 ],
 "metadata": {
  "kernelspec": {
   "display_name": "R",
   "language": "R",
   "name": "ir"
  },
  "language_info": {
   "codemirror_mode": "r",
   "file_extension": ".r",
   "mimetype": "text/x-r-source",
   "name": "R",
   "pygments_lexer": "r",
   "version": "3.5.0"
  }
 },
 "nbformat": 4,
 "nbformat_minor": 2
}
