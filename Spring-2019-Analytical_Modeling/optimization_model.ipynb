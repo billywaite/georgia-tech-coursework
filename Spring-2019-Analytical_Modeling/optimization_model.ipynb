{
 "cells": [
  {
   "cell_type": "markdown",
   "metadata": {},
   "source": [
    "# Week 12 Homework\n",
    "## Question 15.2 Part 1\n",
    "***Formulate an optimization model (a linear program) to find the cheapest diet that satisfies the maximum and minimum daily nutrition constraints, and solve it using PuLP. Turn in your code and the solution. (The optimal solution should be a diet of air-popped popcorn, poached eggs, oranges, raw iceberg lettuce, raw celery, and frozen broccoli. UGH!)***\n",
    "In the code block below, I first started with basic project set up by loading the necessary libraries, loading the data, and getting a quick view of the data. Previously, I opened the execl document manually and saw that there were a few trailing rows which contained constraints for this problem, these rows should not be included in the dataframe which is why I indexed the data."
   ]
  },
  {
   "cell_type": "code",
   "execution_count": 56,
   "metadata": {},
   "outputs": [
    {
     "data": {
      "text/plain": [
       "[u'Frozen Broccoli',\n",
       " 0.16,\n",
       " u'10 Oz Pkg',\n",
       " 73.8,\n",
       " 0.0,\n",
       " 0.8,\n",
       " 68.2,\n",
       " 13.6,\n",
       " 8.5,\n",
       " 8.0,\n",
       " 5867.4,\n",
       " 160.2,\n",
       " 159.0,\n",
       " 2.3]"
      ]
     },
     "execution_count": 56,
     "metadata": {},
     "output_type": "execute_result"
    }
   ],
   "source": [
    "# Load libraries\n",
    "from pulp import *\n",
    "import pandas as pd\n",
    "\n",
    "# Read data\n",
    "food_data = pd.read_excel('diet.xls')\n",
    "\n",
    "# Convert data to list\n",
    "food_data = food_data[0:64].values.tolist()\n",
    "\n",
    "# Store food names\n",
    "food_names = [i[0] for i in food_data]\n",
    "\n",
    "food_data[0]"
   ]
  },
  {
   "cell_type": "markdown",
   "metadata": {},
   "source": [
    "In the next step of the problem I am going to create dictionaries to store each component of each food including cost, calories, cholesterol etc. I am using dictionaries to make it easier to loop later on when I start the pulp section of this problem. I printed an example of one of the dictionaries as well to show what each food dictionary looks like."
   ]
  },
  {
   "cell_type": "code",
   "execution_count": 37,
   "metadata": {},
   "outputs": [
    {
     "name": "stdout",
     "output_type": "stream",
     "text": [
      "{u'Roasted Chicken': 0.84, u'Tomato Soup': 0.39, u'Popcorn,Air-Popped': 0.04, u'Pretzels': 0.12, u'Bagels': 0.16, u'Crm Mshrm Soup,W/Mlk': 0.65, u'Splt Pea&Hamsoup': 0.67, u'White Tuna in Water': 0.69, u\"Cap'N Crunch\": 0.31, u'Macaroni,Ckd': 0.17, u'Couscous': 0.39, u'Kiwifruit,Raw,Fresh': 0.49, u'3.3% Fat,Whole Milk': 0.16, u'Banana': 0.15, u'New E Clamchwd,W/Mlk': 0.99, u'Skim Milk': 0.13, u'Carrots,Raw': 0.07, u\"Raisin Brn, Kellg'S\": 0.34, u'Malt-O-Meal,Choc': 0.52, u'Spaghetti W/ Sauce': 0.78, u'Chicknoodl Soup': 0.39, u'Frozen Corn': 0.18, u'Oranges': 0.15, u'Hamburger W/Toppings': 0.83, u'Wheat Bread': 0.05, u'Vegetbeef Soup': 0.71, u'Apple,Raw,W/Skin': 0.24, u'Neweng Clamchwd': 0.75, u'Grapes': 0.32, u'Chocolate Chip Cookies': 0.03, u'Potatoes, Baked': 0.06, u'White Bread': 0.06, u'Frankfurter, Beef': 0.27, u'White Rice': 0.08, u'Kielbasa,Prk': 0.15, u'Tomato,Red,Ripe,Raw': 0.27, u'Special K': 0.38, u'Sardines in Oil': 0.45, u'Lettuce,Iceberg,Raw': 0.02, u'Peppers, Sweet, Raw': 0.53, u'2% Lowfat Milk': 0.23, u'Taco': 0.59, u'Oatmeal': 0.82, u'Celery, Raw': 0.04, u'Tortilla Chip': 0.19, u'Butter,Regular': 0.05, u'Potato Chips,Bbqflvr': 0.22, u'Poached Eggs': 0.08, u'Cheerios': 0.28, u'Pizza W/Pepperoni': 0.44, u'Pork': 0.81, u'Cheddar Cheese': 0.25, u'Scrambled Eggs': 0.11, u'Apple Pie': 0.16, u'Frozen Broccoli': 0.16, u'Bologna,Turkey': 0.15, u'Tofu': 0.31, u'Hotdog, Plain': 0.31, u'Oatmeal Cookies': 0.09, u'Beanbacn Soup,W/Watr': 0.67, u'Rice Krispies': 0.32, u\"Corn Flks, Kellogg'S\": 0.28, u'Ham,Sliced,Extralean': 0.33, u'Peanut Butter': 0.07}\n"
     ]
    }
   ],
   "source": [
    "cost = dict([(i[0], float(i[1])) for i in food_data])\n",
    "calories = dict([(i[0], float(i[3])) for i in food_data])\n",
    "cholesterol = dict([(i[0], float(i[4])) for i in food_data])\n",
    "total_fat = dict([(i[0], float(i[5])) for i in food_data])\n",
    "sodium = dict([(i[0], float(i[6])) for i in food_data])\n",
    "carbs = dict([(i[0], float(i[7])) for i in food_data])\n",
    "fiber = dict([(i[0], float(i[8])) for i in food_data])\n",
    "protein = dict([(i[0], float(i[9])) for i in food_data])\n",
    "vitamin_A = dict([(i[0], float(i[10])) for i in food_data])\n",
    "vitamin_C = dict([(i[0], float(i[11])) for i in food_data])\n",
    "calcium = dict([(i[0], float(i[12])) for i in food_data])\n",
    "iron = dict([(i[0], float(i[13])) for i in food_data])\n",
    "\n",
    "print(cost)"
   ]
  },
  {
   "cell_type": "markdown",
   "metadata": {},
   "source": [
    "In this next code block I am beginning the implementation of Pulp. This problem is a minimization problem and we are attempting to find the lowest cost while staying within the given food constraints provided in the excel doc. LpMinimize is the parameter we pass to LpProblem to make this a cost minimization model. After executing the minimization problem, I declared initial variables for each food. The lowBound for each variable is 0 because we can't eat a negative amount of something."
   ]
  },
  {
   "cell_type": "code",
   "execution_count": 38,
   "metadata": {},
   "outputs": [],
   "source": [
    "# Create minimization LpProblem\n",
    "cheapest_diet = LpProblem(\"Diet Cost Minimization\", LpMinimize)\n",
    "\n",
    "# Initial variable for how much food we eat\n",
    "foodVars = LpVariable.dicts(\"Foods\", food_names, lowBound = 0 )\n",
    "\n",
    "# Initial variable for whether we eat a specific food or not\n",
    "chosenVars = LpVariable.dicts(\"Chosen\", food_names, lowBound = 0, upBound = 1, cat = \"Binary\")"
   ]
  },
  {
   "cell_type": "markdown",
   "metadata": {},
   "source": [
    "The next step is to create the objective function which will give us the total cost of ingredients in a diet. The objective function is added to the variable cheapest_diet which was declared above with LpProblem. After adding the objective function to the minimization model, I added in every diet constraint provided in the excel doc, which will enable pulp to solve for the minimum cost within the diet constraints."
   ]
  },
  {
   "cell_type": "code",
   "execution_count": 39,
   "metadata": {},
   "outputs": [],
   "source": [
    "# Add objective function to mimimize cost\n",
    "cheapest_diet += lpSum([cost[i]*foodVars[i] for i in food_names]), \"Total Cost\"\n",
    "\n",
    "# Add diet constraints to cheapest_diet model\n",
    "cheapest_diet += lpSum([calories[i]*foodVars[i] for i in food_names]) >= 1500, 'min Calories'\n",
    "cheapest_diet += lpSum([calories[i]*foodVars[i] for i in food_names]) <= 2500, 'max Calories'\n",
    "\n",
    "cheapest_diet += lpSum([cholesterol[i]*foodVars[i] for i in food_names]) >= 30, 'min Cholesterol'\n",
    "cheapest_diet += lpSum([cholesterol[i]*foodVars[i] for i in food_names]) <= 240, 'max Cholesterol'\n",
    "\n",
    "cheapest_diet += lpSum([total_fat[i]*foodVars[i] for i in food_names]) >= 20, 'min fat'\n",
    "cheapest_diet += lpSum([total_fat[i]*foodVars[i] for i in food_names]) <= 70, 'max fat'\n",
    "\n",
    "cheapest_diet += lpSum([sodium[i]*foodVars[i] for i in food_names]) >= 800, 'min sodium'\n",
    "cheapest_diet += lpSum([sodium[i]*foodVars[i] for i in food_names]) <= 2000, 'max sodium'\n",
    "\n",
    "cheapest_diet += lpSum([carbs[i]*foodVars[i] for i in food_names]) >= 130, 'min Carbs'\n",
    "cheapest_diet += lpSum([carbs[i]*foodVars[i] for i in food_names]) <= 450, 'max Carbs'\n",
    "\n",
    "cheapest_diet += lpSum([fiber[i]*foodVars[i] for i in food_names]) >= 125, 'min fiber'\n",
    "cheapest_diet += lpSum([fiber[i]*foodVars[i] for i in food_names]) <= 250, 'max fiber'\n",
    "\n",
    "cheapest_diet += lpSum([protein[i]*foodVars[i] for i in food_names]) >= 60, 'min protein'\n",
    "cheapest_diet += lpSum([protein[i]*foodVars[i] for i in food_names]) <= 100, 'max protein'\n",
    "\n",
    "cheapest_diet += lpSum([vitamin_A[i]*foodVars[i] for i in food_names]) >= 1000, 'min vitamin A'\n",
    "cheapest_diet += lpSum([vitamin_A[i]*foodVars[i] for i in food_names]) <= 10000, 'max vitamin A'\n",
    "\n",
    "cheapest_diet += lpSum([vitamin_C[i]*foodVars[i] for i in food_names]) >= 400, 'min vitamin C'\n",
    "cheapest_diet += lpSum([vitamin_C[i]*foodVars[i] for i in food_names]) <= 5000, 'max vitamin C'\n",
    "\n",
    "cheapest_diet += lpSum([calcium[i]*foodVars[i] for i in food_names]) >= 700, 'min calcium'\n",
    "cheapest_diet += lpSum([calcium[i]*foodVars[i] for i in food_names]) <= 1500, 'max calcium'\n",
    "\n",
    "cheapest_diet += lpSum([iron[i]*foodVars[i] for i in food_names]) >= 10, 'min iron'\n",
    "cheapest_diet += lpSum([iron[i]*foodVars[i] for i in food_names]) <= 40, 'max iron'"
   ]
  },
  {
   "cell_type": "markdown",
   "metadata": {},
   "source": [
    "Now that the minimization model is defined with the objective function and food constraints, the next step is to run pulp with the method solve(). I also looped through the resulting variables to output which foods are included when the cost is minimized within the constraints. You can see from the output below that the foods included in the cheapest diet are raw celery, frozen broccoli, iceber lettuce, oranges, poached eggs, and popcorn which matches what homework instructions mentioned."
   ]
  },
  {
   "cell_type": "code",
   "execution_count": 41,
   "metadata": {},
   "outputs": [
    {
     "name": "stdout",
     "output_type": "stream",
     "text": [
      "('Status:', 'Optimal')\n",
      "('Foods_Celery,_Raw', '=', 52.64371)\n",
      "('Foods_Frozen_Broccoli', '=', 0.25960653)\n",
      "('Foods_Lettuce,Iceberg,Raw', '=', 63.988506)\n",
      "('Foods_Oranges', '=', 2.2929389)\n",
      "('Foods_Poached_Eggs', '=', 0.14184397)\n",
      "('Foods_Popcorn,Air_Popped', '=', 13.869322)\n",
      "Total Cost of meal with given dietary constraints is $4.34\n"
     ]
    }
   ],
   "source": [
    "# Run pulp\n",
    "cheapest_diet.solve()\n",
    "print(\"Status:\", LpStatus[cheapest_diet.status])\n",
    "\n",
    "# Loop to print foods in the cheapest diet\n",
    "for i in cheapest_diet.variables():\n",
    "    if i.varValue != 0.0: \n",
    "        print(i.name, \"=\", i.varValue)\n",
    "\n",
    "# Output total cost after minimizing\n",
    "print (\"Total Cost of meal with given dietary constraints is $%.2f\" % value(cheapest_diet.objective))"
   ]
  },
  {
   "cell_type": "markdown",
   "metadata": {},
   "source": [
    "## Question 15.2 Part 2\n",
    "Please add to your model the following constraints (which might require adding more variables) and solve the new model:\n",
    "* If a food is selected, then a minimum of 1/10 serving must be chosen. (Hint: now you will need two variables for each food i: whether it is chosen, and how much is part of the diet. You’ll also need to write a constraint to link them.)\n",
    "* Many people dislike celery and frozen broccoli. So at most one, but not both, can be selected.\n",
    "* To get day-to-day variety in protein, at least 3 kinds of meat/poultry/fish/eggs must be selected.\n",
    "\n",
    "In this problem I started with the first additional constraint in bullet 1. I am making sure a food has an upper bound that matches whether it has been chosen or not. I also added a lower bound to make sure that if a food is chosen, 0.1 of the food is eaten and otherwhise 0 of the food is eaten. I used the binary variable declared above chosenVars to accomplish this. I added these constraints to the cheapest diet minimization model from above."
   ]
  },
  {
   "cell_type": "code",
   "execution_count": 42,
   "metadata": {},
   "outputs": [],
   "source": [
    "for i in food_names:\n",
    "     cheapest_diet += foodVars[i] <= 10000000 * chosenVars[i]\n",
    "     cheapest_diet += foodVars[i] >= .1 * chosenVars[i]"
   ]
  },
  {
   "cell_type": "markdown",
   "metadata": {},
   "source": [
    "In the code block below, I added the constraint mentioned in bullet 2 from the instructions above. The code makes sure that there can only be one of broccoli or celery in case people don't like those foods."
   ]
  },
  {
   "cell_type": "code",
   "execution_count": 43,
   "metadata": {},
   "outputs": [],
   "source": [
    "cheapest_diet += chosenVars['Frozen Broccoli'] + chosenVars['Celery, Raw'] <= 1"
   ]
  },
  {
   "cell_type": "markdown",
   "metadata": {},
   "source": [
    "In this next code block I handled the constraints outlined in bullet 3 which requires that we have at least 3 kinds of protein in our day to day meals to get some protein variety. "
   ]
  },
  {
   "cell_type": "code",
   "execution_count": 44,
   "metadata": {},
   "outputs": [],
   "source": [
    "cheapest_diet += chosenVars['Tofu'] + chosenVars['Roasted Chicken'] + \\\n",
    "chosenVars['Poached Eggs'] + chosenVars['Scrambled Eggs'] + chosenVars['Bologna,Turkey'] + \\\n",
    "chosenVars['Frankfurter, Beef']+chosenVars['Ham,Sliced,Extralean'] + \\\n",
    "chosenVars['Kielbasa,Prk']+chosenVars['Hamburger W/Toppings'] + \\\n",
    "chosenVars['Hotdog, Plain']+chosenVars['Pork'] +chosenVars['Sardines in Oil'] + \\\n",
    "chosenVars['White Tuna in Water'] >= 3"
   ]
  },
  {
   "cell_type": "markdown",
   "metadata": {},
   "source": [
    "Finally, I executed the minimization function with these additional constraints. and output the foods contained in the new meal. You can see that the meal is only slightly higher at $4.51 per meal, but considerably more appetizing with the additional constraints. One thing I noticed however was the combination of poached and scrambled eggs, so in a future iteration I would take a look at adding a constraint to limit how many eggs are contained from the protein list."
   ]
  },
  {
   "cell_type": "code",
   "execution_count": 46,
   "metadata": {},
   "outputs": [
    {
     "name": "stdout",
     "output_type": "stream",
     "text": [
      "('Status:', 'Optimal')\n",
      "('Chosen_Celery,_Raw', '=', 1.0)\n",
      "('Chosen_Kielbasa,Prk', '=', 1.0)\n",
      "('Chosen_Lettuce,Iceberg,Raw', '=', 1.0)\n",
      "('Chosen_Oranges', '=', 1.0)\n",
      "('Chosen_Peanut_Butter', '=', 1.0)\n",
      "('Chosen_Poached_Eggs', '=', 1.0)\n",
      "('Chosen_Popcorn,Air_Popped', '=', 1.0)\n",
      "('Chosen_Scrambled_Eggs', '=', 1.0)\n",
      "('Foods_Celery,_Raw', '=', 42.399358)\n",
      "('Foods_Kielbasa,Prk', '=', 0.1)\n",
      "('Foods_Lettuce,Iceberg,Raw', '=', 82.802586)\n",
      "('Foods_Oranges', '=', 3.0771841)\n",
      "('Foods_Peanut_Butter', '=', 1.9429716)\n",
      "('Foods_Poached_Eggs', '=', 0.1)\n",
      "('Foods_Popcorn,Air_Popped', '=', 13.223294)\n",
      "('Foods_Scrambled_Eggs', '=', 0.1)\n",
      "Total Cost of the meal with added constraints is $4.51\n"
     ]
    }
   ],
   "source": [
    "cheapest_diet.solve()\n",
    "print(\"Status:\", LpStatus[cheapest_diet.status])\n",
    "\n",
    "# Print out foods included in diet if they are non-zero\n",
    "for i in cheapest_diet.variables():\n",
    "    if i.varValue != 0.0:\n",
    "        print(i.name, \"=\", i.varValue)\n",
    "\n",
    "print (\"Total Cost of the meal with added constraints is $%.2f\" % value(cheapest_diet.objective))"
   ]
  }
 ],
 "metadata": {
  "kernelspec": {
   "display_name": "Python 3",
   "language": "python",
   "name": "python3"
  },
  "language_info": {
   "codemirror_mode": {
    "name": "ipython",
    "version": 2
   },
   "file_extension": ".py",
   "mimetype": "text/x-python",
   "name": "python",
   "nbconvert_exporter": "python",
   "pygments_lexer": "ipython2",
   "version": "2.7.13"
  }
 },
 "nbformat": 4,
 "nbformat_minor": 2
}
