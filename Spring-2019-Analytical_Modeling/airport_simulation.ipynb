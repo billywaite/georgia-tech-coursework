{
 "cells": [
  {
   "cell_type": "markdown",
   "metadata": {},
   "source": [
    "## Question 13.2\n",
    "***In this problem you, can simulate a simplified airport security system at a busy airport. Passengers arrive\n",
    "according to a Poisson distribution with λ1 = 5 per minute (i.e., mean interarrival rate 1 = 0.2 minutes)\n",
    "to the ID/boarding-pass check queue, where there are several servers who each have exponential\n",
    "service time with mean rate 2 = 0.75 minutes. [Hint: model them as one block that has more than one\n",
    "resource.] After that, the passengers are assigned to the shortest of the several personal-check queues,\n",
    "where they go through the personal scanner (time is uniformly distributed between 0.5 minutes and 1\n",
    "minute).***\n",
    "\n",
    "***Use the Arena software (PC users) or Python with SimPy (PC or Mac users) to build a simulation of the\n",
    "system, and then vary the number of ID/boarding-pass checkers and personal-check queues to\n",
    "determine how many are needed to keep average wait times below 15 minutes. [If you’re using SimPy,\n",
    "or if you have access to a non-student version of Arena, you can use λ1 = 50 to simulate a busier airport.]***"
   ]
  },
  {
   "cell_type": "markdown",
   "metadata": {},
   "source": [
    "To execute this simulation problem I am going to use the simpy package in python. I start by first setting up the project with basic package import as well as declaring some constant variables that were given to us in the outline above."
   ]
  },
  {
   "cell_type": "code",
   "execution_count": 205,
   "metadata": {},
   "outputs": [],
   "source": [
    "# import necessary libraries\n",
    "import random\n",
    "import simpy\n",
    "import pandas as pd\n",
    "\n",
    "# Create constant variables\n",
    "check_time = 0.75   # Minutes it takes to service a passenger\n",
    "min_scan_time = 0.5 # Min time it takes for a passenger to self scan\n",
    "max_scan_time = 1.0 # Max time it takes for a passenger to self scan\n",
    "sim_time = 60       # Simulation time in minutes"
   ]
  },
  {
   "cell_type": "markdown",
   "metadata": {},
   "source": [
    "In the next 3 blocks of code I am going to set up the actual environment of the simulation. In the first code block below I first create the Airport environment object. This environment contains 3 functions, one to initialize the environment, one to check passengers through the boarding-pass checker process, and one to put passengers through the scan process. An airport has a limited number of boarding-pass checkers (num_checkers) to check passengers in parellel as well as a limited number of passenger scanners (num_scanners). Passengers have to queue at one boarding pass checker. When they got one, they can start the boarding pass check process and wait for it to finish which takes 0.75 minutes (check_time). They then move on to the queue at one scanner. When they get a scanner, they can start the scan process and wait for it to finish which takes between 0.5 and 1.0 minutes (scan_time)."
   ]
  },
  {
   "cell_type": "code",
   "execution_count": 211,
   "metadata": {},
   "outputs": [],
   "source": [
    "class Airport(object):\n",
    "\n",
    "    def __init__(self, env, num_checkers, check_time, \n",
    "                 num_scanners, min_scan_time, max_scan_time):\n",
    "        self.env = env\n",
    "        self.checker = simpy.Resource(env, num_checkers)\n",
    "        self.check_time = check_time\n",
    "        self.scanner = num_scanners\n",
    "        self.min_scan_time = min_scan_time\n",
    "        self.max_scan_time = max_scan_time\n",
    "\n",
    "    def check(self, Passenger):\n",
    "        \"\"\"The check process. It takes a passenger and processes them\"\"\"\n",
    "        yield self.env.timeout(check_time)\n",
    "     \n",
    "    def scan(self, Passenger):\n",
    "        \"\"\"The scan process. It takes a passenger and then scans them\"\"\"\n",
    "        \n",
    "        scan_time = random.uniform(min_scan_time, max_scan_time)\n",
    "        yield self.env.timeout(scan_time)\n",
    "        scan_times.append(scan_time)"
   ]
  },
  {
   "cell_type": "markdown",
   "metadata": {},
   "source": [
    "This next code block continues the environment set up. The function below declares the Passenger behavior within an Airport environment. Each passenger has a name, arrives at the airport (Airport) and requests a boarding-pass checker. They then start the boarding-pass check process, waits for it to finish and then request a passenger scanner, where they wait until it finishes."
   ]
  },
  {
   "cell_type": "code",
   "execution_count": 207,
   "metadata": {},
   "outputs": [],
   "source": [
    "def Passenger(env, name, Airport):\n",
    "\n",
    "    passengers.append(name)\n",
    "    arrival_times.append(env.now)\n",
    "    \n",
    "    with Airport.checker.request() as request:\n",
    "        yield request\n",
    "\n",
    "        check_line_enter_times.append(env.now)\n",
    "        yield env.process(Airport.check(name))\n",
    "\n",
    "        scanner_line_enter_times.append(env.now)\n",
    "        yield env.process(Airport.scan(name))\n",
    "        \n",
    "        scanner_line_exit_times.append(env.now)"
   ]
  },
  {
   "cell_type": "markdown",
   "metadata": {},
   "source": [
    "The function below finishes the set up of the environment. The setup function creates an Airport, a number of initial passengers and keeps creating passengers approximately every 0.2 minutes (arrival_inter) for low volume airports, and 0.02 minutes for large airpots."
   ]
  },
  {
   "cell_type": "code",
   "execution_count": 213,
   "metadata": {},
   "outputs": [],
   "source": [
    "def setup(env, num_checkers, check_time, num_scanners, scan_time, arrival_inter):\n",
    "    \n",
    "    # Create the Airport\n",
    "    airport = Airport(env, num_checkers, check_time, \n",
    "                      num_scanners, min_scan_time, max_scan_time)\n",
    "\n",
    "    # Create 5 initial passengers\n",
    "    for i in range(5):\n",
    "        env.process(Passenger(env, 'Passenger %d' % i, airport))\n",
    "\n",
    "    # Create more passengers while the simulation is running\n",
    "    while True:\n",
    "        yield env.timeout(arrival_inter)\n",
    "        i += 1\n",
    "        env.process(Passenger(env, 'Passenger %d' % i, airport))"
   ]
  },
  {
   "cell_type": "markdown",
   "metadata": {},
   "source": [
    "After completing the set up of the simulation environment, the next step is to execute the simulation with a few iterable variables. I iterated through 2 lambda values of 5.0 and 50.0 which represent the passenger arrival rates at the airport (5 being low, 50 being high. I also iterated through the number of passenger checkers and scanners. I stored all of the results in a few different lists, calculated the total average wait time for each iteration, and then created a final wait_time_df below this next block."
   ]
  },
  {
   "cell_type": "code",
   "execution_count": 214,
   "metadata": {},
   "outputs": [],
   "source": [
    "# Setup and start the simulation\n",
    "random.seed(23)\n",
    "\n",
    "# Create list for average wait times to append into\n",
    "avg_wait_times = []\n",
    "num_checkers_scanners = []\n",
    "arrival_rates = []\n",
    "\n",
    "# Iterate through different passenger arrival rates to test airport business\n",
    "for i in [5.0, 50.0]:\n",
    "    \n",
    "    # Set passenger arrival rate\n",
    "    arrival_inter = 1.0 / i\n",
    "    \n",
    "    # Iterate through different combinations of checkers & scanners \n",
    "    # to optimize wait time below 15 minutes\n",
    "    for j in range(1, 41):\n",
    "\n",
    "        # Create lists for storing simulation results\n",
    "        passengers = []\n",
    "        arrival_times = []\n",
    "        check_line_enter_times = []\n",
    "        check_times = []\n",
    "        scanner_line_enter_times = []\n",
    "        scan_times = []\n",
    "        scanner_line_exit_times = []\n",
    "\n",
    "        num_checkers = j # number of boarding-pass checkers\n",
    "        num_scanners = j # number of scanners\n",
    "\n",
    "        # Create an environment and start the setup process\n",
    "        env = simpy.Environment()\n",
    "        env.process(setup(env, num_checkers, check_time, num_scanners, \n",
    "                          scan_time, arrival_inter))\n",
    "\n",
    "        # Execute\n",
    "        env.run(until=sim_time)\n",
    "\n",
    "        # Store check wait time, scanner wait times and \n",
    "        # create df for total wait time\n",
    "        check_line_wait_times = [abs(round((i - j) - 0.75,2)) \n",
    "                                 for i, j in zip(scanner_line_enter_times, \n",
    "                                                 arrival_times)]\n",
    "                                                 \n",
    "        scan_line_wait_times = [abs(round((i - j) - k, 2)) \n",
    "                                for i, j, k in zip(scanner_line_exit_times, \n",
    "                                                   scanner_line_enter_times, \n",
    "                                                   scan_times)]\n",
    "                                                   \n",
    "        total_wait_times = [i + j for i, j in zip(check_line_wait_times, \n",
    "                                                  scan_line_wait_times)]\n",
    "\n",
    "        # Append total average wait time, number of checkers, and number of scanners to lists\n",
    "        avg_wait_times.append(sum(total_wait_times) / len(total_wait_times))\n",
    "        num_checkers_scanners.append(num_checkers)\n",
    "        arrival_rates.append(arrival_inter)"
   ]
  },
  {
   "cell_type": "markdown",
   "metadata": {},
   "source": [
    "The final dataframe containing the average wait time for each iteration of the number of checkers & scanners as well as the passenger arrival rates is below."
   ]
  },
  {
   "cell_type": "code",
   "execution_count": 210,
   "metadata": {},
   "outputs": [
    {
     "data": {
      "text/html": [
       "<div>\n",
       "<style>\n",
       "    .dataframe thead tr:only-child th {\n",
       "        text-align: right;\n",
       "    }\n",
       "\n",
       "    .dataframe thead th {\n",
       "        text-align: left;\n",
       "    }\n",
       "\n",
       "    .dataframe tbody tr th {\n",
       "        vertical-align: top;\n",
       "    }\n",
       "</style>\n",
       "<table border=\"1\" class=\"dataframe\">\n",
       "  <thead>\n",
       "    <tr style=\"text-align: right;\">\n",
       "      <th></th>\n",
       "      <th>avg_wait_time</th>\n",
       "      <th>n_checkers_and_scanners</th>\n",
       "      <th>passenger_arrival_rate</th>\n",
       "    </tr>\n",
       "  </thead>\n",
       "  <tbody>\n",
       "    <tr>\n",
       "      <th>0</th>\n",
       "      <td>26.006000</td>\n",
       "      <td>1</td>\n",
       "      <td>0.2</td>\n",
       "    </tr>\n",
       "    <tr>\n",
       "      <th>1</th>\n",
       "      <td>21.628077</td>\n",
       "      <td>2</td>\n",
       "      <td>0.2</td>\n",
       "    </tr>\n",
       "    <tr>\n",
       "      <th>2</th>\n",
       "      <td>17.769496</td>\n",
       "      <td>3</td>\n",
       "      <td>0.2</td>\n",
       "    </tr>\n",
       "    <tr>\n",
       "      <th>3</th>\n",
       "      <td>13.996879</td>\n",
       "      <td>4</td>\n",
       "      <td>0.2</td>\n",
       "    </tr>\n",
       "    <tr>\n",
       "      <th>4</th>\n",
       "      <td>10.421421</td>\n",
       "      <td>5</td>\n",
       "      <td>0.2</td>\n",
       "    </tr>\n",
       "    <tr>\n",
       "      <th>5</th>\n",
       "      <td>6.217712</td>\n",
       "      <td>6</td>\n",
       "      <td>0.2</td>\n",
       "    </tr>\n",
       "    <tr>\n",
       "      <th>6</th>\n",
       "      <td>1.936667</td>\n",
       "      <td>7</td>\n",
       "      <td>0.2</td>\n",
       "    </tr>\n",
       "    <tr>\n",
       "      <th>7</th>\n",
       "      <td>0.099394</td>\n",
       "      <td>8</td>\n",
       "      <td>0.2</td>\n",
       "    </tr>\n",
       "    <tr>\n",
       "      <th>8</th>\n",
       "      <td>0.079933</td>\n",
       "      <td>9</td>\n",
       "      <td>0.2</td>\n",
       "    </tr>\n",
       "    <tr>\n",
       "      <th>9</th>\n",
       "      <td>0.079360</td>\n",
       "      <td>10</td>\n",
       "      <td>0.2</td>\n",
       "    </tr>\n",
       "  </tbody>\n",
       "</table>\n",
       "</div>"
      ],
      "text/plain": [
       "   avg_wait_time  n_checkers_and_scanners  passenger_arrival_rate\n",
       "0      26.006000                        1                     0.2\n",
       "1      21.628077                        2                     0.2\n",
       "2      17.769496                        3                     0.2\n",
       "3      13.996879                        4                     0.2\n",
       "4      10.421421                        5                     0.2\n",
       "5       6.217712                        6                     0.2\n",
       "6       1.936667                        7                     0.2\n",
       "7       0.099394                        8                     0.2\n",
       "8       0.079933                        9                     0.2\n",
       "9       0.079360                       10                     0.2"
      ]
     },
     "execution_count": 210,
     "metadata": {},
     "output_type": "execute_result"
    }
   ],
   "source": [
    "wait_time_df = pd.DataFrame(\n",
    "    {'n_checkers_and_scanners': num_checkers_scanners,\n",
    "     'avg_wait_time': avg_wait_times,\n",
    "     'passenger_arrival_rate': arrival_rates\n",
    "    })\n",
    "    \n",
    "wait_time_df.head(10)"
   ]
  },
  {
   "cell_type": "markdown",
   "metadata": {},
   "source": [
    "Finally, in the next 2 code blocks I filtered the wait time dataframe from above to show the number of checkers & scanners required to keep the wait time below 15 minutes. The minimum number of checkers and scanners required for a low volume airport is 4, and the minimum required checkers and scanners for a high volume airport is 37. To improve upon this analysis, something that would be interesting to explore is the individual number of checkers versus scanners, instead of iterating through them at the same rate. We might find that either the checkers or the scanners might have a large impact on the wait time. This information would be most useful if we knew the max available of each of these categories, as well as the total cost of each to determine which value to minimize."
   ]
  },
  {
   "cell_type": "code",
   "execution_count": 203,
   "metadata": {},
   "outputs": [
    {
     "data": {
      "text/html": [
       "<div>\n",
       "<style>\n",
       "    .dataframe thead tr:only-child th {\n",
       "        text-align: right;\n",
       "    }\n",
       "\n",
       "    .dataframe thead th {\n",
       "        text-align: left;\n",
       "    }\n",
       "\n",
       "    .dataframe tbody tr th {\n",
       "        vertical-align: top;\n",
       "    }\n",
       "</style>\n",
       "<table border=\"1\" class=\"dataframe\">\n",
       "  <thead>\n",
       "    <tr style=\"text-align: right;\">\n",
       "      <th></th>\n",
       "      <th>avg_wait_time</th>\n",
       "      <th>n_checkers_and_scanners</th>\n",
       "      <th>passenger_arrival_rate</th>\n",
       "    </tr>\n",
       "  </thead>\n",
       "  <tbody>\n",
       "    <tr>\n",
       "      <th>3</th>\n",
       "      <td>13.996879</td>\n",
       "      <td>4</td>\n",
       "      <td>0.2</td>\n",
       "    </tr>\n",
       "  </tbody>\n",
       "</table>\n",
       "</div>"
      ],
      "text/plain": [
       "   avg_wait_time  n_checkers_and_scanners  passenger_arrival_rate\n",
       "3      13.996879                        4                     0.2"
      ]
     },
     "execution_count": 203,
     "metadata": {},
     "output_type": "execute_result"
    }
   ],
   "source": [
    "# Filter to low passenger arrival rate\n",
    "low_arrival_rate = wait_time_df[wait_time_df['passenger_arrival_rate']==0.2]\n",
    "low_arrival_rate = low_arrival_rate[low_arrival_rate['avg_wait_time'] <= 15.0]\n",
    "low_arrival_rate.head(1)"
   ]
  },
  {
   "cell_type": "code",
   "execution_count": 204,
   "metadata": {},
   "outputs": [
    {
     "data": {
      "text/html": [
       "<div>\n",
       "<style>\n",
       "    .dataframe thead tr:only-child th {\n",
       "        text-align: right;\n",
       "    }\n",
       "\n",
       "    .dataframe thead th {\n",
       "        text-align: left;\n",
       "    }\n",
       "\n",
       "    .dataframe tbody tr th {\n",
       "        vertical-align: top;\n",
       "    }\n",
       "</style>\n",
       "<table border=\"1\" class=\"dataframe\">\n",
       "  <thead>\n",
       "    <tr style=\"text-align: right;\">\n",
       "      <th></th>\n",
       "      <th>avg_wait_time</th>\n",
       "      <th>n_checkers_and_scanners</th>\n",
       "      <th>passenger_arrival_rate</th>\n",
       "    </tr>\n",
       "  </thead>\n",
       "  <tbody>\n",
       "    <tr>\n",
       "      <th>76</th>\n",
       "      <td>14.815048</td>\n",
       "      <td>37</td>\n",
       "      <td>0.02</td>\n",
       "    </tr>\n",
       "  </tbody>\n",
       "</table>\n",
       "</div>"
      ],
      "text/plain": [
       "    avg_wait_time  n_checkers_and_scanners  passenger_arrival_rate\n",
       "76      14.815048                       37                    0.02"
      ]
     },
     "execution_count": 204,
     "metadata": {},
     "output_type": "execute_result"
    }
   ],
   "source": [
    "# Filter to high passenger arrival rate\n",
    "high_arrival_rate = wait_time_df[wait_time_df['passenger_arrival_rate']==0.02]\n",
    "high_arrival_rate = high_arrival_rate[high_arrival_rate['avg_wait_time'] <= 15.0]\n",
    "high_arrival_rate.head(1)"
   ]
  },
  {
   "cell_type": "code",
   "execution_count": null,
   "metadata": {},
   "outputs": [],
   "source": []
  }
 ],
 "metadata": {
  "kernelspec": {
   "display_name": "Python 3",
   "language": "python",
   "name": "python3"
  },
  "language_info": {
   "name": ""
  }
 },
 "nbformat": 4,
 "nbformat_minor": 2
}
